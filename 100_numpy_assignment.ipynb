{
 "cells": [
  {
   "cell_type": "code",
   "execution_count": 1,
   "metadata": {},
   "outputs": [],
   "source": [
    "## Task 001: Import the numpy package under the name np\n",
    "import numpy as np"
   ]
  },
  {
   "cell_type": "code",
   "execution_count": 13,
   "metadata": {},
   "outputs": [
    {
     "data": {
      "text/plain": [
       "'1.24.4'"
      ]
     },
     "execution_count": 13,
     "metadata": {},
     "output_type": "execute_result"
    }
   ],
   "source": [
    "## Task 002: Print the numpy version and the configuration\n",
    "np.__version__"
   ]
  },
  {
   "cell_type": "code",
   "execution_count": 14,
   "metadata": {},
   "outputs": [
    {
     "data": {
      "text/plain": [
       "array([0., 0., 0., 0., 0., 0., 0., 0., 0., 0.])"
      ]
     },
     "execution_count": 14,
     "metadata": {},
     "output_type": "execute_result"
    }
   ],
   "source": [
    "## Task 003: Create a null vector of size 10\n",
    "a = np.zeros(10)\n",
    "a"
   ]
  },
  {
   "cell_type": "code",
   "execution_count": 15,
   "metadata": {},
   "outputs": [
    {
     "data": {
      "text/plain": [
       "dtype('float64')"
      ]
     },
     "execution_count": 15,
     "metadata": {},
     "output_type": "execute_result"
    }
   ],
   "source": [
    "## Task 004: How to find the memory size of any array\n",
    "a.dtype"
   ]
  },
  {
   "cell_type": "code",
   "execution_count": 16,
   "metadata": {},
   "outputs": [
    {
     "name": "stdout",
     "output_type": "stream",
     "text": [
      "/bin/bash: -c: line 1: syntax error near unexpected token `('\n",
      "/bin/bash: -c: line 1: `python -c help(np.add)'\n"
     ]
    }
   ],
   "source": [
    "## Task 005: How to get the documentation of the numpy add function from the command line?\n",
    "!python -c help(np.add)\n"
   ]
  },
  {
   "cell_type": "code",
   "execution_count": 17,
   "metadata": {},
   "outputs": [
    {
     "data": {
      "text/plain": [
       "array([0., 0., 0., 0., 0., 1., 0., 0., 0., 0.])"
      ]
     },
     "execution_count": 17,
     "metadata": {},
     "output_type": "execute_result"
    }
   ],
   "source": [
    "## Task 006: Create a null vector of size 10 but the fifth value which is 1\n",
    "b = np.zeros(10)\n",
    "b [5] = 1\n",
    "b"
   ]
  },
  {
   "cell_type": "code",
   "execution_count": 18,
   "metadata": {},
   "outputs": [
    {
     "data": {
      "text/plain": [
       "array([10, 11, 12, 13, 14, 15, 16, 17, 18, 19, 20, 21, 22, 23, 24, 25, 26,\n",
       "       27, 28, 29, 30, 31, 32, 33, 34, 35, 36, 37, 38, 39, 40, 41, 42, 43,\n",
       "       44, 45, 46, 47, 48])"
      ]
     },
     "execution_count": 18,
     "metadata": {},
     "output_type": "execute_result"
    }
   ],
   "source": [
    "## Task 007: Create a vector with values ranging from 10 to 49 \n",
    "vector_values = np.arange(10,49)\n",
    "vector_values"
   ]
  },
  {
   "cell_type": "code",
   "execution_count": 19,
   "metadata": {},
   "outputs": [
    {
     "name": "stdout",
     "output_type": "stream",
     "text": [
      "[10, 9, 8, 7, 6, 5, 4, 3, 2, 1]\n"
     ]
    }
   ],
   "source": [
    "## Task 008: Reverse a vector (first element becomes last)\n",
    "nums = [1, 2, 3, 4, 5, 6, 7, 8, 9, 10]\n",
    "reversed_vector = nums[::-1]\n",
    "print(reversed_vector)\n"
   ]
  },
  {
   "cell_type": "code",
   "execution_count": 20,
   "metadata": {},
   "outputs": [
    {
     "data": {
      "text/plain": [
       "array([[0, 1, 2, 3, 4, 5, 6, 7, 8],\n",
       "       [0, 1, 2, 3, 4, 5, 6, 7, 8],\n",
       "       [0, 1, 2, 3, 4, 5, 6, 7, 8]])"
      ]
     },
     "execution_count": 20,
     "metadata": {},
     "output_type": "execute_result"
    }
   ],
   "source": [
    "## Task 009: Create a 3x3 matrix with values ranging from 0 to 8\n",
    "matrix_one = ([0, 1, 2, 3, 4, 5, 6, 7, 8],\n",
    "              [0, 1, 2, 3, 4, 5, 6, 7, 8],\n",
    "              [0, 1, 2, 3, 4, 5, 6, 7, 8])\n",
    "np.array(matrix_one)\n",
    "\n"
   ]
  },
  {
   "cell_type": "code",
   "execution_count": 21,
   "metadata": {},
   "outputs": [
    {
     "data": {
      "text/plain": [
       "(array([0, 1, 4]),)"
      ]
     },
     "execution_count": 21,
     "metadata": {},
     "output_type": "execute_result"
    }
   ],
   "source": [
    "## Task 010: Find indices of non-zero elements from [1,2,0,0,4,0] \n",
    "arr = np.array([1,2,0,0,4,0])\n",
    "indices = np.nonzero(arr)\n",
    "indices"
   ]
  },
  {
   "cell_type": "code",
   "execution_count": 22,
   "metadata": {},
   "outputs": [
    {
     "name": "stdout",
     "output_type": "stream",
     "text": [
      "[[1. 0. 0.]\n",
      " [0. 1. 0.]\n",
      " [0. 0. 1.]]\n"
     ]
    }
   ],
   "source": [
    "## Task 011: Create a 3x3 identity matrix\n",
    "identity_matrix = np.eye(3)\n",
    "print(identity_matrix)\n"
   ]
  },
  {
   "cell_type": "code",
   "execution_count": 23,
   "metadata": {},
   "outputs": [
    {
     "data": {
      "text/plain": [
       "array([[[0.62487709, 0.62284566, 0.50697033],\n",
       "        [0.60068411, 0.97987191, 0.33474677],\n",
       "        [0.31613917, 0.25299817, 0.48883289]],\n",
       "\n",
       "       [[0.49607973, 0.70576399, 0.4220015 ],\n",
       "        [0.95371839, 0.03784653, 0.20932718],\n",
       "        [0.49281576, 0.09215222, 0.82765755]],\n",
       "\n",
       "       [[0.75634357, 0.01213951, 0.53045822],\n",
       "        [0.0979375 , 0.69258913, 0.72195574],\n",
       "        [0.22336968, 0.11391104, 0.28787636]]])"
      ]
     },
     "execution_count": 23,
     "metadata": {},
     "output_type": "execute_result"
    }
   ],
   "source": [
    "## Task 012: Create a 3x3x3 array with random values\n",
    "arr2 = np.random.rand (3,3,3)\n",
    "arr2"
   ]
  },
  {
   "cell_type": "code",
   "execution_count": 24,
   "metadata": {},
   "outputs": [
    {
     "name": "stdout",
     "output_type": "stream",
     "text": [
      "[[0.13636643 0.46724734 0.7369041  0.6099072  0.10404585 0.33624326\n",
      "  0.11999864 0.05327932 0.05720531 0.33234116]\n",
      " [0.37864427 0.95220781 0.21965597 0.1624535  0.58792069 0.69681301\n",
      "  0.48785527 0.6168212  0.65399915 0.23720831]\n",
      " [0.41502092 0.31360904 0.63300922 0.57906092 0.06792314 0.28362102\n",
      "  0.78676987 0.50968438 0.3931353  0.5607433 ]\n",
      " [0.12202415 0.94610262 0.59527763 0.7822201  0.97540197 0.98267946\n",
      "  0.14025926 0.56222106 0.8090193  0.79794378]\n",
      " [0.9135827  0.41803405 0.35057168 0.01936396 0.96294129 0.59398667\n",
      "  0.34059794 0.18879633 0.84496884 0.75526215]\n",
      " [0.54617552 0.47903913 0.41996233 0.30515483 0.80481398 0.53470537\n",
      "  0.41057946 0.02483    0.67523043 0.31375173]\n",
      " [0.44851501 0.83697192 0.25535986 0.41619221 0.67108755 0.05575084\n",
      "  0.57919003 0.4791278  0.22425234 0.13440606]\n",
      " [0.60127731 0.32087105 0.73879671 0.38934452 0.32286652 0.85227155\n",
      "  0.36938878 0.40117131 0.4616758  0.27161978]\n",
      " [0.1337051  0.05522289 0.84036254 0.17405046 0.46012029 0.03142406\n",
      "  0.76207101 0.71967823 0.8803589  0.52990008]\n",
      " [0.69158721 0.53477436 0.2481443  0.08661585 0.76439786 0.81580344\n",
      "  0.79086301 0.30368288 0.60091963 0.75107932]]\n",
      "0.9826794643866378\n",
      "0.01936395578491179\n"
     ]
    }
   ],
   "source": [
    "## Task 013: Create a 10x10 array with random values and find the minimum and maximum values \n",
    "arr3 = np.random.rand (10,10)\n",
    "print(arr3)\n",
    "result_min = np.min(arr3)\n",
    "result_max = np.max(arr3)\n",
    "print(result_max)\n",
    "print(result_min)"
   ]
  },
  {
   "cell_type": "code",
   "execution_count": 25,
   "metadata": {},
   "outputs": [
    {
     "name": "stdout",
     "output_type": "stream",
     "text": [
      "[0.78679936 0.65207353 0.25877062 0.335049   0.68315949 0.28015087\n",
      " 0.47522908 0.59405983 0.44497679 0.55273238 0.44729637 0.08696472\n",
      " 0.94556272 0.01539335 0.75779483 0.4325764  0.44418407 0.36394665\n",
      " 0.16514912 0.99215071 0.95545574 0.83607623 0.33161782 0.52936096\n",
      " 0.85404351 0.38589242 0.37118567 0.39258771 0.09877502 0.57631556]\n",
      "The mean is: 0.5015110167528147\n"
     ]
    }
   ],
   "source": [
    "## Task 014: Create a random vector of size 30 and find the mean value\n",
    "vector = np.random.rand(30)\n",
    "print(vector)\n",
    "\n",
    "a = vector.mean()\n",
    "print (\"The mean is:\", a)"
   ]
  },
  {
   "cell_type": "code",
   "execution_count": 26,
   "metadata": {},
   "outputs": [
    {
     "name": "stdout",
     "output_type": "stream",
     "text": [
      "[[1. 1. 1. 1. 1. 1. 1.]\n",
      " [1. 0. 0. 0. 0. 0. 1.]\n",
      " [1. 0. 0. 0. 0. 0. 1.]\n",
      " [1. 0. 0. 0. 0. 0. 1.]\n",
      " [1. 0. 0. 0. 0. 0. 1.]\n",
      " [1. 0. 0. 0. 0. 0. 1.]\n",
      " [1. 1. 1. 1. 1. 1. 1.]]\n"
     ]
    }
   ],
   "source": [
    "## Task 015: Create a 2d array with 1 on the border and 0 inside \n",
    "# Define the dimensions of the array\n",
    "rows, cols = 7, 7\n",
    "\n",
    "# Initialize the array with zeros\n",
    "array = np.zeros((rows, cols))\n",
    "\n",
    "# Set the border elements to 1\n",
    "array[0, :] = 1\n",
    "array[-1, :] = 1\n",
    "array[:, 0] = 1\n",
    "array[:, -1] = 1\n",
    "\n",
    "print(array)\n"
   ]
  },
  {
   "cell_type": "code",
   "execution_count": 27,
   "metadata": {},
   "outputs": [
    {
     "name": "stdout",
     "output_type": "stream",
     "text": [
      "Existing Array:\n",
      "[[1. 1. 1. 1. 1. 1. 1.]\n",
      " [1. 0. 0. 0. 0. 0. 1.]\n",
      " [1. 0. 0. 0. 0. 0. 1.]\n",
      " [1. 0. 0. 0. 0. 0. 1.]\n",
      " [1. 0. 0. 0. 0. 0. 1.]\n",
      " [1. 0. 0. 0. 0. 0. 1.]\n",
      " [1. 1. 1. 1. 1. 1. 1.]]\n",
      "\n",
      "New Array with Border:\n",
      "[[0. 0. 0. 0. 0. 0. 0. 0. 0.]\n",
      " [0. 1. 1. 1. 1. 1. 1. 1. 0.]\n",
      " [0. 1. 0. 0. 0. 0. 0. 1. 0.]\n",
      " [0. 1. 0. 0. 0. 0. 0. 1. 0.]\n",
      " [0. 1. 0. 0. 0. 0. 0. 1. 0.]\n",
      " [0. 1. 0. 0. 0. 0. 0. 1. 0.]\n",
      " [0. 1. 0. 0. 0. 0. 0. 1. 0.]\n",
      " [0. 1. 1. 1. 1. 1. 1. 1. 0.]\n",
      " [0. 0. 0. 0. 0. 0. 0. 0. 0.]]\n"
     ]
    }
   ],
   "source": [
    "## Task 016: How to add a border (filled with 0's) around an existing array? \n",
    "\n",
    "# Get the dimensions of the existing array\n",
    "rows, cols = array.shape\n",
    "\n",
    "# Create a new array with expanded dimensions\n",
    "new_array = np.zeros((rows + 2, cols + 2), dtype=array.dtype)\n",
    "\n",
    "# Copy the existing array into the interior of the new array\n",
    "new_array[1:-1, 1:-1] = array\n",
    "\n",
    "print(\"Existing Array:\")\n",
    "print(array)\n",
    "print(\"\\nNew Array with Border:\")\n",
    "print(new_array)\n"
   ]
  },
  {
   "cell_type": "code",
   "execution_count": 28,
   "metadata": {},
   "outputs": [
    {
     "data": {
      "text/plain": [
       "False"
      ]
     },
     "execution_count": 28,
     "metadata": {},
     "output_type": "execute_result"
    }
   ],
   "source": [
    "## Task 017: What is the result of the following expression?\n",
    "0 * np.nan\n",
    "np.nan == np.nan\n",
    "np.inf > np.nan\n",
    "np.nan - np.nan\n",
    "np.nan in set([np.nan])\n",
    "0.3 == 3 * 0.1"
   ]
  },
  {
   "cell_type": "code",
   "execution_count": 29,
   "metadata": {},
   "outputs": [
    {
     "name": "stdout",
     "output_type": "stream",
     "text": [
      "[[0. 0. 0. 0. 0.]\n",
      " [1. 0. 0. 0. 0.]\n",
      " [0. 2. 0. 0. 0.]\n",
      " [0. 0. 3. 0. 0.]\n",
      " [0. 0. 0. 4. 0.]]\n"
     ]
    }
   ],
   "source": [
    "## Task 018: Create a 5x5 matrix with values 1,2,3,4 just below the diagonal\n",
    "\n",
    "# Create a 5x5 matrix filled with zeros\n",
    "matrix = np.zeros((5, 5))\n",
    "\n",
    "# Set the values just below the diagonal\n",
    "values = [1, 2, 3, 4]\n",
    "for i, value in enumerate(values, start=1):\n",
    "    matrix[i, i-1] = value\n",
    "\n",
    "print(matrix)\n"
   ]
  },
  {
   "cell_type": "code",
   "execution_count": 30,
   "metadata": {},
   "outputs": [
    {
     "name": "stdout",
     "output_type": "stream",
     "text": [
      "[[1 0 1 0 1 0 1 0]\n",
      " [0 1 0 1 0 1 0 1]\n",
      " [1 0 1 0 1 0 1 0]\n",
      " [0 1 0 1 0 1 0 1]\n",
      " [1 0 1 0 1 0 1 0]\n",
      " [0 1 0 1 0 1 0 1]\n",
      " [1 0 1 0 1 0 1 0]\n",
      " [0 1 0 1 0 1 0 1]]\n"
     ]
    }
   ],
   "source": [
    "## Task 019: Create a 8x8 matrix and fill it with a checkerboard pattern\n",
    "matrix = np.zeros((8, 8), dtype=int)\n",
    "\n",
    "# Fill the even rows and columns with 1\n",
    "matrix[::2, ::2] = 1\n",
    "matrix[1::2, 1::2] = 1\n",
    "\n",
    "print(matrix)"
   ]
  },
  {
   "cell_type": "code",
   "execution_count": 31,
   "metadata": {},
   "outputs": [
    {
     "name": "stdout",
     "output_type": "stream",
     "text": [
      "Indices (x, y, z): 4 2 2\n"
     ]
    }
   ],
   "source": [
    "## Task 020: Consider a (6,7,8) shape array, what is the index (x,y,z) of the 100th element? \n",
    "shape = (6, 7, 8)\n",
    "\n",
    "# index\n",
    "index = 100\n",
    "\n",
    "# Calculate the indices\n",
    "z = index // (shape[0] * shape[1])\n",
    "remainder = index % (shape[0] * shape[1])\n",
    "y = remainder // shape[0]\n",
    "x = remainder % shape[0]\n",
    "\n",
    "print(\"Indices (x, y, z):\", x, y, z)"
   ]
  },
  {
   "cell_type": "code",
   "execution_count": 32,
   "metadata": {},
   "outputs": [
    {
     "name": "stdout",
     "output_type": "stream",
     "text": [
      "[[0 1 0 1 0 1 0 1]\n",
      " [1 0 1 0 1 0 1 0]\n",
      " [0 1 0 1 0 1 0 1]\n",
      " [1 0 1 0 1 0 1 0]\n",
      " [0 1 0 1 0 1 0 1]\n",
      " [1 0 1 0 1 0 1 0]\n",
      " [0 1 0 1 0 1 0 1]\n",
      " [1 0 1 0 1 0 1 0]]\n"
     ]
    }
   ],
   "source": [
    "## Task 021:  Create a checkerboard 8x8 matrix using the tile function\n",
    "\n",
    "checkerboard = np.array([[0, 1], [1, 0]])\n",
    "\n",
    "# Use the tile function to create an 8x8 checkerboard matrix\n",
    "checkerboard_8x8 = np.tile(checkerboard, (4, 4))\n",
    "\n",
    "print(checkerboard_8x8)"
   ]
  },
  {
   "cell_type": "code",
   "execution_count": 33,
   "metadata": {},
   "outputs": [
    {
     "name": "stdout",
     "output_type": "stream",
     "text": [
      "Random Matrix:\n",
      "[[0.6821661  0.04239204 0.60284199 0.4641305  0.6194003 ]\n",
      " [0.43198019 0.77897473 0.8217964  0.86877038 0.80137505]\n",
      " [0.87658478 0.56423395 0.20876922 0.2743995  0.63093099]\n",
      " [0.02258734 0.57310107 0.17606156 0.42766887 0.7589792 ]\n",
      " [0.82644962 0.03915498 0.60452862 0.83834236 0.94014983]]\n",
      "\n",
      "Normalized Matrix:\n",
      "[[0.71883797 0.02158403 0.63238706 0.48121318 0.65043304]\n",
      " [0.44617435 0.82434429 0.87101323 0.92220753 0.84875713]\n",
      " [0.93072402 0.59031033 0.20290921 0.27443598 0.6629997 ]\n",
      " [0.         0.5999741  0.16726296 0.44147569 0.80255227]\n",
      " [0.87608451 0.01805614 0.63422523 0.88904573 1.        ]]\n"
     ]
    }
   ],
   "source": [
    "## Task 022: Normalize a 5x5 random matrix \n",
    "\n",
    "# Create a 5x5 random matrix\n",
    "random_matrix = np.random.rand(5, 5)\n",
    "print(\"Random Matrix:\")\n",
    "print(random_matrix)\n",
    "\n",
    "# Normalize the matrix\n",
    "normalized_matrix = (random_matrix - np.min(random_matrix)) / (np.max(random_matrix) - np.min(random_matrix))\n",
    "print(\"\\nNormalized Matrix:\")\n",
    "print(normalized_matrix)\n"
   ]
  },
  {
   "cell_type": "code",
   "execution_count": 34,
   "metadata": {},
   "outputs": [
    {
     "name": "stdout",
     "output_type": "stream",
     "text": [
      "(255, 0, 0, 255)\n"
     ]
    }
   ],
   "source": [
    "## Task 023: Create a custom dtype that describes a color as four unsigned bytes (RGBA)\n",
    "\n",
    "# Define the custom dtype for RGBA color representation\n",
    "color_dtype = np.dtype([('R', np.uint8),   # Red channel\n",
    "                        ('G', np.uint8),   # Green channel\n",
    "                        ('B', np.uint8),   # Blue channel\n",
    "                        ('A', np.uint8)])  # Alpha channel\n",
    "\n",
    "# Example usage:\n",
    "color = np.array((255, 0, 0, 255), dtype=color_dtype)\n",
    "print(color)\n"
   ]
  },
  {
   "cell_type": "code",
   "execution_count": 35,
   "metadata": {},
   "outputs": [
    {
     "name": "stdout",
     "output_type": "stream",
     "text": [
      "[[0.79872219 0.90186865 0.0049256 ]\n",
      " [0.86423836 0.06092207 0.1884983 ]\n",
      " [0.3881211  0.6442796  0.52643359]\n",
      " [0.63806777 0.59427009 0.64706419]\n",
      " [0.52836225 0.99227341 0.72816321]]\n",
      "[[0.75532556 0.23423427]\n",
      " [0.65651257 0.50632834]\n",
      " [0.66258596 0.18604358]]\n",
      "The product is: [[1.19864703 0.64464614]\n",
      " [0.81767375 0.26834971]\n",
      " [1.06494295 0.51506787]\n",
      " [1.30083032 0.57073527]\n",
      " [1.53299619 0.76164678]]\n"
     ]
    }
   ],
   "source": [
    "## Task 024: Multiply a 5x3 matrix by a 3x2 matrix (real matrix product) \n",
    "matrix_one = np.random.rand (5,3)\n",
    "print(matrix_one)\n",
    "matrix_two = np.random. rand (3,2)\n",
    "print(matrix_two)\n",
    "result_product = np.dot(matrix_one,matrix_two)\n",
    "print(\"The product is:\", result_product)"
   ]
  },
  {
   "cell_type": "code",
   "execution_count": 36,
   "metadata": {},
   "outputs": [
    {
     "name": "stdout",
     "output_type": "stream",
     "text": [
      "[ 0  1  2  3  4  5  6  7  8  9 10 11 12 13 14]\n",
      "[ 0  1  2  3 -4 -5 -6 -7  8  9 10 11 12 13 14]\n"
     ]
    }
   ],
   "source": [
    "## Task 025: Given a 1D array, negate all elements which are between 3 and 8, in place.\n",
    "one_D_array = np.arange(15)\n",
    "print(one_D_array)\n",
    "\n",
    "one_D_array[(one_D_array > 3) & (one_D_array < 8)] *=-1\n",
    "print(one_D_array)\n"
   ]
  },
  {
   "cell_type": "code",
   "execution_count": 37,
   "metadata": {},
   "outputs": [
    {
     "name": "stdout",
     "output_type": "stream",
     "text": [
      "9\n",
      "10\n"
     ]
    }
   ],
   "source": [
    "## Task 026: What is the output of the following script?\n",
    "# Author: Jake VanderPlas\n",
    "\n",
    "print(sum(range(5),-1))\n",
    "from numpy import *\n",
    "print(sum(range(5),-1))"
   ]
  },
  {
   "cell_type": "code",
   "execution_count": 38,
   "metadata": {},
   "outputs": [
    {
     "name": "stdout",
     "output_type": "stream",
     "text": [
      "104857600000000000000000000\n",
      "524288\n",
      "False\n",
      "20j\n",
      "20.0\n",
      "False\n"
     ]
    }
   ],
   "source": [
    "## Task 027: Consider an integer vector Z, which of these expressions are legal? \n",
    "Z = 20\n",
    "print(Z**Z)\n",
    "print(2 << Z >> 2)\n",
    "print(Z <- Z)\n",
    "print(1j*Z)\n",
    "print(Z/1/1)\n",
    "print(Z<Z>Z)"
   ]
  },
  {
   "cell_type": "code",
   "execution_count": 39,
   "metadata": {},
   "outputs": [
    {
     "name": "stdout",
     "output_type": "stream",
     "text": [
      "nan\n",
      "0\n",
      "[-9.22337204e+18]\n"
     ]
    },
    {
     "name": "stderr",
     "output_type": "stream",
     "text": [
      "/tmp/ipykernel_3105/3222423647.py:2: RuntimeWarning: invalid value encountered in divide\n",
      "  print(np.array(0) / np.array(0))\n",
      "/tmp/ipykernel_3105/3222423647.py:3: RuntimeWarning: divide by zero encountered in floor_divide\n",
      "  print(np.array(0) // np.array(0))\n",
      "/tmp/ipykernel_3105/3222423647.py:4: RuntimeWarning: invalid value encountered in cast\n",
      "  print(np.array([np.nan]).astype(int).astype(float))\n"
     ]
    }
   ],
   "source": [
    "## Task 028: What are the result of the following expressions?\n",
    "print(np.array(0) / np.array(0))\n",
    "print(np.array(0) // np.array(0))\n",
    "print(np.array([np.nan]).astype(int).astype(float))"
   ]
  },
  {
   "cell_type": "code",
   "execution_count": 40,
   "metadata": {},
   "outputs": [
    {
     "name": "stdout",
     "output_type": "stream",
     "text": [
      "Original Array: [-1.5  2.3 -3.7  4.5 -5.9]\n",
      "Rounded Away from Zero: [-2.  3. -4.  5. -6.]\n"
     ]
    }
   ],
   "source": [
    "## Task 029: How to round away from zero a float array ? \n",
    "float_array = np.array([-1.5, 2.3, -3.7, 4.5, -5.9])\n",
    "\n",
    "# Round away from zero using np.ceil() for positive numbers and np.floor() for negative numbers\n",
    "rounded_array = np.where(float_array >= 0, np.ceil(float_array), np.floor(float_array))\n",
    "\n",
    "print(\"Original Array:\", float_array)\n",
    "print(\"Rounded Away from Zero:\", rounded_array)\n"
   ]
  },
  {
   "cell_type": "code",
   "execution_count": 41,
   "metadata": {},
   "outputs": [
    {
     "name": "stdout",
     "output_type": "stream",
     "text": [
      "(array([0, 1, 2]),)\n"
     ]
    }
   ],
   "source": [
    "## Task 030: How to find common values between two arrays?\n",
    "array_1 = np.array ([12,30,13,14,15])\n",
    "array_2 = np.array ([12, 30, 13, 40, 56])\n",
    "\n",
    "common_values = np.where(array_1 == array_2)\n",
    "print(common_values)"
   ]
  },
  {
   "cell_type": "code",
   "execution_count": 42,
   "metadata": {},
   "outputs": [],
   "source": [
    "## Task 031: How to ignore all numpy warnings (not recommended)?\n",
    "import warnings\n",
    "\n",
    "# Ignore all NumPy warnings\n",
    "warnings.filterwarnings(\"ignore\", category=np.VisibleDeprecationWarning)"
   ]
  },
  {
   "cell_type": "code",
   "execution_count": 43,
   "metadata": {},
   "outputs": [
    {
     "name": "stdout",
     "output_type": "stream",
     "text": [
      "False\n"
     ]
    },
    {
     "name": "stderr",
     "output_type": "stream",
     "text": [
      "/tmp/ipykernel_3105/1148870142.py:2: RuntimeWarning: invalid value encountered in sqrt\n",
      "  print(np.sqrt(-1) == np.emath.sqrt(-1))\n"
     ]
    }
   ],
   "source": [
    "## Task 032: Is the following expressions true? \n",
    "print(np.sqrt(-1) == np.emath.sqrt(-1))"
   ]
  },
  {
   "cell_type": "code",
   "execution_count": 44,
   "metadata": {},
   "outputs": [
    {
     "name": "stdout",
     "output_type": "stream",
     "text": [
      "Yesterday: 2024-02-20\n",
      "Today: 2024-02-21\n",
      "Tomorrow: 2024-02-22\n"
     ]
    }
   ],
   "source": [
    "## Task 033: How to get the dates of yesterday, today and tomorrow?\n",
    "from datetime import datetime, timedelta\n",
    "\n",
    "# Get today's date\n",
    "today = datetime.now().date()\n",
    "\n",
    "# Get yesterday's date\n",
    "yesterday = today - timedelta(days=1)\n",
    "\n",
    "# Get tomorrow's date\n",
    "tomorrow = today + timedelta(days=1)\n",
    "\n",
    "print(\"Yesterday:\", yesterday)\n",
    "print(\"Today:\", today)\n",
    "print(\"Tomorrow:\", tomorrow)"
   ]
  },
  {
   "cell_type": "code",
   "execution_count": 45,
   "metadata": {},
   "outputs": [
    {
     "name": "stdout",
     "output_type": "stream",
     "text": [
      "2016-07-01 00:00:00\n",
      "2016-07-02 00:00:00\n",
      "2016-07-03 00:00:00\n",
      "2016-07-04 00:00:00\n",
      "2016-07-05 00:00:00\n",
      "2016-07-06 00:00:00\n",
      "2016-07-07 00:00:00\n",
      "2016-07-08 00:00:00\n",
      "2016-07-09 00:00:00\n",
      "2016-07-10 00:00:00\n",
      "2016-07-11 00:00:00\n",
      "2016-07-12 00:00:00\n",
      "2016-07-13 00:00:00\n",
      "2016-07-14 00:00:00\n",
      "2016-07-15 00:00:00\n",
      "2016-07-16 00:00:00\n",
      "2016-07-17 00:00:00\n",
      "2016-07-18 00:00:00\n",
      "2016-07-19 00:00:00\n",
      "2016-07-20 00:00:00\n",
      "2016-07-21 00:00:00\n",
      "2016-07-22 00:00:00\n",
      "2016-07-23 00:00:00\n",
      "2016-07-24 00:00:00\n",
      "2016-07-25 00:00:00\n",
      "2016-07-26 00:00:00\n",
      "2016-07-27 00:00:00\n",
      "2016-07-28 00:00:00\n",
      "2016-07-29 00:00:00\n",
      "2016-07-30 00:00:00\n",
      "2016-07-31 00:00:00\n"
     ]
    }
   ],
   "source": [
    "## Task 034: How to get all the dates corresponding to the month of July 2016?\n",
    "# Define the start date of July 2016\n",
    "start_date = datetime(2016, 7, 1)\n",
    "\n",
    "# Define the end date of July 2016\n",
    "end_date = datetime(2016, 7, 31)\n",
    "\n",
    "# Generate all dates for July 2016\n",
    "dates = []\n",
    "current_date = start_date\n",
    "while current_date <= end_date:\n",
    "    dates.append(current_date)\n",
    "    current_date += timedelta(days=1)\n",
    "\n",
    "# Print all dates for July 2016\n",
    "for date in dates:\n",
    "    print(date)\n",
    "\n"
   ]
  },
  {
   "cell_type": "code",
   "execution_count": 46,
   "metadata": {},
   "outputs": [
    {
     "data": {
      "text/plain": [
       "array([ -2.5,  -7. , -13.5])"
      ]
     },
     "execution_count": 46,
     "metadata": {},
     "output_type": "execute_result"
    }
   ],
   "source": [
    "## Task 035: How to compute ((A+B)*(-A/2)) in place (without copy)?\n",
    "A = np.array([1 ,2, 3])\n",
    "B = np.array([4, 5, 6])\n",
    "result = (A+B)*(-A/2)\n",
    "result "
   ]
  },
  {
   "cell_type": "code",
   "execution_count": 47,
   "metadata": {},
   "outputs": [
    {
     "name": "stdout",
     "output_type": "stream",
     "text": [
      "Original Array: [1.79347133 5.41007594 6.27822056 9.36342198 0.44536857]\n",
      "Integer Part (astype): [1 5 6 9 0]\n",
      "Integer Part (floor): [1. 5. 6. 9. 0.]\n",
      "Integer Part (trunc): [1. 5. 6. 9. 0.]\n"
     ]
    }
   ],
   "source": [
    "## Task 036: Extract the integer part of a random array of positive numbers using 4 different methods\n",
    "# Generate a random array of positive numbers\n",
    "random_array = np.random.rand(5) * 10  \n",
    "\n",
    "# Method 1: Using astype() method\n",
    "integer_part1 = random_array.astype(int)\n",
    "\n",
    "# Method 2: Using floor() function\n",
    "integer_part2 = np.floor(random_array)\n",
    "\n",
    "# Method 3: Using trunc() function\n",
    "integer_part4 = np.trunc(random_array)\n",
    "\n",
    "print(\"Original Array:\", random_array)\n",
    "print(\"Integer Part (astype):\", integer_part1)\n",
    "print(\"Integer Part (floor):\", integer_part2)\n",
    "print(\"Integer Part (trunc):\", integer_part4)\n"
   ]
  },
  {
   "cell_type": "code",
   "execution_count": 48,
   "metadata": {},
   "outputs": [
    {
     "name": "stdout",
     "output_type": "stream",
     "text": [
      "[[0 1 2 3 4]\n",
      " [1 2 3 4 5]\n",
      " [2 3 4 5 6]\n",
      " [3 4 5 6 7]\n",
      " [4 5 6 7 8]]\n"
     ]
    }
   ],
   "source": [
    "## Task 037: Create a 5x5 matrix with row values ranging from 0 to 4\n",
    "matrix = np.arange(5).reshape(-1, 1) + np.arange(5)\n",
    "\n",
    "print(matrix)\n"
   ]
  },
  {
   "cell_type": "code",
   "execution_count": 49,
   "metadata": {},
   "outputs": [
    {
     "data": {
      "text/plain": [
       "array([0, 1, 2, 3, 4, 5, 6, 7, 8, 9])"
      ]
     },
     "execution_count": 49,
     "metadata": {},
     "output_type": "execute_result"
    }
   ],
   "source": [
    "## Task 038: Consider a generator function that generates 10 integers and use it to build an array\n",
    "array2 = np.arange(10)\n",
    "array2"
   ]
  },
  {
   "cell_type": "code",
   "execution_count": 50,
   "metadata": {},
   "outputs": [
    {
     "data": {
      "text/plain": [
       "array([0.11111111, 0.22222222, 0.33333333, 0.44444444, 0.55555556,\n",
       "       0.66666667, 0.77777778, 0.88888889])"
      ]
     },
     "execution_count": 50,
     "metadata": {},
     "output_type": "execute_result"
    }
   ],
   "source": [
    "## Task 039:  Create a vector of size 10 with values ranging from 0 to 1, both excluded\n",
    "vector = np.linspace(0, 1, 10)[1:-1]\n",
    "vector"
   ]
  },
  {
   "cell_type": "code",
   "execution_count": 51,
   "metadata": {},
   "outputs": [
    {
     "name": "stdout",
     "output_type": "stream",
     "text": [
      "[0.88903737 0.81951923 0.51254182 0.59989376 0.13325562 0.10115476\n",
      " 0.21431083 0.1921767  0.22259865 0.82248329]\n",
      "Sorted vector: [0.10115476 0.13325562 0.1921767  0.21431083 0.22259865 0.51254182\n",
      " 0.59989376 0.81951923 0.82248329 0.88903737]\n"
     ]
    }
   ],
   "source": [
    "## Task 040: Create a random vector of size 10 and sort it \n",
    "random_vector = np.random.rand(10)\n",
    "print(random_vector)\n",
    "random_vector.sort()\n",
    "print(\"Sorted vector:\" ,random_vector)\n"
   ]
  },
  {
   "cell_type": "code",
   "execution_count": 52,
   "metadata": {},
   "outputs": [
    {
     "data": {
      "text/plain": [
       "array([3, 4, 5, 6, 7])"
      ]
     },
     "execution_count": 52,
     "metadata": {},
     "output_type": "execute_result"
    }
   ],
   "source": [
    "## Task 041: How to sum a small array faster than np.sum? \n",
    "small_array = np.array([1, 2, 3, 4, 5])\n",
    "#The faster method is\n",
    "result = small_array + 2\n",
    "result"
   ]
  },
  {
   "cell_type": "code",
   "execution_count": 53,
   "metadata": {},
   "outputs": [
    {
     "data": {
      "text/plain": [
       "array([False, False, False, False, False, False])"
      ]
     },
     "execution_count": 53,
     "metadata": {},
     "output_type": "execute_result"
    }
   ],
   "source": [
    "## Task 042: Consider two random array A and B, check if they are equal \n",
    "A = np.array([30, 40, 50, 60 ,70, 80])\n",
    "B = np.array([10, 20, 30, 40, 50, 60])\n",
    "#To check if equal\n",
    "result = A == B\n",
    "result"
   ]
  },
  {
   "cell_type": "code",
   "execution_count": 54,
   "metadata": {},
   "outputs": [
    {
     "name": "stdout",
     "output_type": "stream",
     "text": [
      "Error: assignment destination is read-only\n",
      "Array: [1 2 3 4 5]\n"
     ]
    }
   ],
   "source": [
    "## Task 043: Make an array immutable (read-only)\n",
    "array = np.array([1, 2, 3, 4, 5])\n",
    "\n",
    "# Make the array immutable (read-only)\n",
    "array.flags.writeable = False\n",
    "\n",
    "# Try to modify the array (will raise an error)\n",
    "try:\n",
    "    array[0] = 10\n",
    "except ValueError as e:\n",
    "    print(\"Error:\", e)\n",
    "\n",
    "print(\"Array:\", array)"
   ]
  },
  {
   "cell_type": "code",
   "execution_count": 55,
   "metadata": {},
   "outputs": [
    {
     "name": "stdout",
     "output_type": "stream",
     "text": [
      "Cartesian Coordinates:\n",
      "[[0.29588771 0.1955811 ]\n",
      " [0.54901231 0.13883717]\n",
      " [0.77623135 0.05546748]\n",
      " [0.03315809 0.25475281]\n",
      " [0.65718104 0.93279275]\n",
      " [0.24557801 0.29387012]\n",
      " [0.52113105 0.40076038]\n",
      " [0.28880791 0.4211695 ]\n",
      " [0.83870661 0.77689542]\n",
      " [0.92155595 0.5019342 ]]\n",
      "\n",
      "Polar Coordinates:\n",
      "[[0.35468508 0.58406768]\n",
      " [0.56629522 0.24769243]\n",
      " [0.77821061 0.07133615]\n",
      " [0.25690164 1.44136607]\n",
      " [1.14104743 0.95703616]\n",
      " [0.38297285 0.87468149]\n",
      " [0.65740889 0.65556342]\n",
      " [0.5106797  0.96971294]\n",
      " [1.14323894 0.74715789]\n",
      " [1.04938234 0.49873377]]\n"
     ]
    }
   ],
   "source": [
    "## Task 044: Consider a random 10x2 matrix representing cartesian coordinates, convert them to polar coordinates\n",
    "# Generate random cartesian coordinates\n",
    "cartesian = np.random.rand(10, 2)\n",
    "\n",
    "# Extract x and y coordinates\n",
    "x = cartesian[:, 0]\n",
    "y = cartesian[:, 1]\n",
    "\n",
    "# Convert cartesian coordinates to polar coordinates\n",
    "r = np.hypot(x, y)\n",
    "theta = np.arctan2(y, x)\n",
    "\n",
    "# Combine r and theta to form polar coordinates\n",
    "polar = np.column_stack((r, theta))\n",
    "\n",
    "print(\"Cartesian Coordinates:\")\n",
    "print(cartesian)\n",
    "print(\"\\nPolar Coordinates:\")\n",
    "print(polar)\n"
   ]
  },
  {
   "cell_type": "code",
   "execution_count": 56,
   "metadata": {},
   "outputs": [
    {
     "name": "stdout",
     "output_type": "stream",
     "text": [
      "Random Vector (with maximum replaced by 0): [0.00562017 0.         0.25864068 0.69171224 0.69403854 0.61276082\n",
      " 0.55541198 0.67641857 0.2846577  0.49649065]\n"
     ]
    }
   ],
   "source": [
    "## Task 045: Create random vector of size 10 and replace the maximum value by 0 \n",
    "random_vector = np.random.rand(10)\n",
    "max_index = np.argmax(random_vector)\n",
    "\n",
    "# Replace the maximum value with 0\n",
    "random_vector[max_index] = 0\n",
    "\n",
    "print(\"Random Vector (with maximum replaced by 0):\", random_vector)"
   ]
  },
  {
   "cell_type": "code",
   "execution_count": 57,
   "metadata": {},
   "outputs": [
    {
     "name": "stdout",
     "output_type": "stream",
     "text": [
      "Structured Array:\n",
      "[[0.   0.  ]\n",
      " [0.25 0.  ]\n",
      " [0.5  0.  ]\n",
      " [0.75 0.  ]\n",
      " [1.   0.  ]\n",
      " [0.   0.25]\n",
      " [0.25 0.25]\n",
      " [0.5  0.25]\n",
      " [0.75 0.25]\n",
      " [1.   0.25]\n",
      " [0.   0.5 ]\n",
      " [0.25 0.5 ]\n",
      " [0.5  0.5 ]\n",
      " [0.75 0.5 ]\n",
      " [1.   0.5 ]\n",
      " [0.   0.75]\n",
      " [0.25 0.75]\n",
      " [0.5  0.75]\n",
      " [0.75 0.75]\n",
      " [1.   0.75]\n",
      " [0.   1.  ]\n",
      " [0.25 1.  ]\n",
      " [0.5  1.  ]\n",
      " [0.75 1.  ]\n",
      " [1.   1.  ]]\n"
     ]
    }
   ],
   "source": [
    "## Task 046: Create a structured array with x and y coordinates covering the [0,1]x[0,1] area\n",
    "# Define the number of points along each axis\n",
    "num_points = 5 \n",
    "\n",
    "# Generate x and y coordinates covering the [0,1]x[0,1] area\n",
    "x = np.linspace(0, 1, num_points)\n",
    "y = np.linspace(0, 1, num_points)\n",
    "\n",
    "# Create a meshgrid of x and y coordinates\n",
    "X, Y = np.meshgrid(x, y)\n",
    "\n",
    "# Stack x and y coordinates to create a structured array\n",
    "structured_array = np.column_stack((X.ravel(), Y.ravel()))\n",
    "\n",
    "print(\"Structured Array:\")\n",
    "print(structured_array)"
   ]
  },
  {
   "cell_type": "code",
   "execution_count": 58,
   "metadata": {},
   "outputs": [
    {
     "name": "stdout",
     "output_type": "stream",
     "text": [
      "Cauchy Matrix C:\n",
      "[[-0.33333333 -0.25       -0.2       ]\n",
      " [-0.5        -0.33333333 -0.25      ]\n",
      " [-1.         -0.5        -0.33333333]]\n"
     ]
    }
   ],
   "source": [
    "## Task 047: Given two arrays, X and Y, construct the Cauchy matrix C (Cij =1/(xi - yj)\n",
    "# Define the arrays X and Y\n",
    "X = np.array([1, 2, 3])\n",
    "Y = np.array([4, 5, 6])\n",
    "\n",
    "# Construct the Cauchy matrix C\n",
    "C = 1 / (X[:, None] - Y)\n",
    "\n",
    "print(\"Cauchy Matrix C:\")\n",
    "print(C)\n"
   ]
  },
  {
   "cell_type": "code",
   "execution_count": 59,
   "metadata": {},
   "outputs": [
    {
     "name": "stdout",
     "output_type": "stream",
     "text": [
      "Integer types:\n",
      "   int8: min = -128, max = 127\n",
      "  uint8: min = 0, max = 255\n",
      "  int16: min = -32768, max = 32767\n",
      " uint16: min = 0, max = 65535\n",
      "  int32: min = -2147483648, max = 2147483647\n",
      " uint32: min = 0, max = 4294967295\n",
      "  int64: min = -9223372036854775808, max = 9223372036854775807\n",
      " uint64: min = 0, max = 18446744073709551615\n",
      "\n",
      "Floating-point types:\n",
      "   float16: min = -65504.0, max = 65504.0\n",
      "   float32: min = -3.4028234663852886e+38, max = 3.4028234663852886e+38\n",
      "   float64: min = -1.7976931348623157e+308, max = 1.7976931348623157e+308\n",
      "  float128: min = -inf, max = inf\n"
     ]
    }
   ],
   "source": [
    "## Task 048: Print the minimum and maximum representable value for each numpy scalar type\n",
    "# Print minimum and maximum representable values for integer types\n",
    "print(\"Integer types:\")\n",
    "for dtype in [np.int8, np.uint8, np.int16, np.uint16, np.int32, np.uint32, np.int64, np.uint64]:\n",
    "    info = np.iinfo(dtype)\n",
    "    print(f\"{dtype.__name__:>7}: min = {info.min}, max = {info.max}\")\n",
    "\n",
    "# Print minimum and maximum representable values for floating-point types\n",
    "print(\"\\nFloating-point types:\")\n",
    "for dtype in [np.float16, np.float32, np.float64, np.float128]:\n",
    "    info = np.finfo(dtype)\n",
    "    print(f\"{dtype.__name__:>10}: min = {info.min}, max = {info.max}\")\n"
   ]
  },
  {
   "cell_type": "code",
   "execution_count": 60,
   "metadata": {},
   "outputs": [
    {
     "name": "stdout",
     "output_type": "stream",
     "text": [
      "[[[0.62487709 0.62284566 0.50697033]\n",
      "  [0.60068411 0.97987191 0.33474677]\n",
      "  [0.31613917 0.25299817 0.48883289]]\n",
      "\n",
      " [[0.49607973 0.70576399 0.4220015 ]\n",
      "  [0.95371839 0.03784653 0.20932718]\n",
      "  [0.49281576 0.09215222 0.82765755]]\n",
      "\n",
      " [[0.75634357 0.01213951 0.53045822]\n",
      "  [0.0979375  0.69258913 0.72195574]\n",
      "  [0.22336968 0.11391104 0.28787636]]]\n"
     ]
    }
   ],
   "source": [
    "## Task 049: How to print all the values of an array?\n",
    "print(arr2)"
   ]
  },
  {
   "cell_type": "code",
   "execution_count": 67,
   "metadata": {},
   "outputs": [
    {
     "name": "stdout",
     "output_type": "stream",
     "text": [
      "Vector: [1 3 5 7 9]\n",
      "Given scalar: 6\n",
      "Closest value: 5\n"
     ]
    }
   ],
   "source": [
    "## Task 050: How to find the closest value (to a given scalar) in a vector?\n",
    "# Create a vector\n",
    "vector = np.array([1, 3, 5, 7, 9])\n",
    "\n",
    "# Given scalar value\n",
    "scalar = 6\n",
    "\n",
    "# Find the index of the closest value to the scalar\n",
    "closest_index = np.abs(vector - scalar).argmin()\n",
    "\n",
    "# Get the closest value\n",
    "closest_value = vector[closest_index]\n",
    "\n",
    "print(\"Vector:\", vector)\n",
    "print(\"Given scalar:\", scalar)\n",
    "print(\"Closest value:\", closest_value)\n"
   ]
  },
  {
   "cell_type": "code",
   "execution_count": 68,
   "metadata": {},
   "outputs": [
    {
     "name": "stdout",
     "output_type": "stream",
     "text": [
      "The structured array representing (x,y) [[0. 0.]\n",
      " [1. 0.]\n",
      " [0. 1.]\n",
      " [1. 1.]]\n",
      "The structured array representing (r,g,b) [[255 255 255]\n",
      " [255 255   3]\n",
      " [  3 255 255]\n",
      " [  3 255   3]\n",
      " [255   3 255]\n",
      " [255   3   3]\n",
      " [  3   3 255]\n",
      " [  3   3   3]]\n"
     ]
    }
   ],
   "source": [
    "## Task 051: Create a structured array representing a position (x,y) and a color (r,g,b) \n",
    "# Representingg a position(x,y)\n",
    "points = 2\n",
    "x = np.linspace (0,1,points)\n",
    "y = np.linspace (0,1,points)\n",
    "x,y = np.meshgrid(x,y)\n",
    "structured_array = np.column_stack((x.ravel(), y.ravel()))\n",
    "print(\"The structured array representing (x,y)\", structured_array)\n",
    "\n",
    "#Representing color (r,g,b)\n",
    "points_color = 3\n",
    "r = (255, points_color)\n",
    "g = (255, points_color)\n",
    "b = (255, points_color)\n",
    "r,g,b = np.meshgrid(r,g,b)\n",
    "structured_array_color = np.column_stack((r.ravel(), g.ravel(), b.ravel()))\n",
    "print(\"The structured array representing (r,g,b)\", structured_array_color)"
   ]
  },
  {
   "cell_type": "code",
   "execution_count": 70,
   "metadata": {},
   "outputs": [
    {
     "name": "stdout",
     "output_type": "stream",
     "text": [
      "Point-by-point distances:\n",
      "[[0.         0.69919933 0.18076304 ... 0.32146081 0.44522662 0.46371304]\n",
      " [0.69919933 0.         0.87675049 ... 0.81315194 0.27876579 0.74952411]\n",
      " [0.18076304 0.87675049 0.         ... 0.30731715 0.61481921 0.56390993]\n",
      " ...\n",
      " [0.32146081 0.81315194 0.30731715 ... 0.         0.5353643  0.7847495 ]\n",
      " [0.44522662 0.27876579 0.61481921 ... 0.5353643  0.         0.63813897]\n",
      " [0.46371304 0.74952411 0.56390993 ... 0.7847495  0.63813897 0.        ]]\n"
     ]
    }
   ],
   "source": [
    "## Task 052: Consider a random vector with shape (100,2) representing coordinates, find point by point distances \n",
    "random_coordinates = np.random.rand(100,2)\n",
    "#To find point by point distances\n",
    "distances = np.sqrt(np.sum((random_coordinates[:, None] - random_coordinates) ** 2, axis=-1))\n",
    "\n",
    "print(\"Point-by-point distances:\")\n",
    "print(distances)"
   ]
  },
  {
   "cell_type": "code",
   "execution_count": 74,
   "metadata": {},
   "outputs": [
    {
     "name": "stdout",
     "output_type": "stream",
     "text": [
      "[1.2  6.9  8.9  4.9  5.67]\n",
      "float64\n",
      "[1 6 8 4 5]\n"
     ]
    }
   ],
   "source": [
    "## Task 053: How to convert a float (32 bits) array into an integer (32 bits) in place?\n",
    "float_arr = np.array([1.20, 6.90, 8.90, 4.90, 5.67])\n",
    "print(float_arr)\n",
    "print(float_arr.dtype)\n",
    "# Change to integer\n",
    "print(float_arr.astype(np.int32))\n"
   ]
  },
  {
   "cell_type": "code",
   "execution_count": 75,
   "metadata": {},
   "outputs": [
    {
     "name": "stdout",
     "output_type": "stream",
     "text": [
      "Data from file:\n",
      "[[ 1.  2.  3.  4.  5.]\n",
      " [ 6. nan nan  7.  8.]\n",
      " [nan nan  9. 10. 11.]]\n"
     ]
    }
   ],
   "source": [
    "## Task 054:How to read the following file? \n",
    "# Read the file\n",
    "data = np.genfromtxt('file.txt', delimiter=',', dtype=float)\n",
    "\n",
    "print(\"Data from file:\")\n",
    "print(data)"
   ]
  },
  {
   "cell_type": "code",
   "execution_count": 76,
   "metadata": {},
   "outputs": [
    {
     "name": "stdout",
     "output_type": "stream",
     "text": [
      "Index: (0, 0) Value: 1\n",
      "Index: (0, 1) Value: 2\n",
      "Index: (0, 2) Value: 3\n",
      "Index: (1, 0) Value: 4\n",
      "Index: (1, 1) Value: 5\n",
      "Index: (1, 2) Value: 6\n",
      "Index: (2, 0) Value: 7\n",
      "Index: (2, 1) Value: 8\n",
      "Index: (2, 2) Value: 9\n"
     ]
    }
   ],
   "source": [
    "## Task 055:What is the equivalent of enumerate for numpy arrays?\n",
    "# Create a NumPy array\n",
    "arr = np.array([[1, 2, 3],\n",
    "                [4, 5, 6],\n",
    "                [7, 8, 9]])\n",
    "\n",
    "# Iterate over the indices and values of the array\n",
    "for index, value in np.ndenumerate(arr):\n",
    "    print(\"Index:\", index, \"Value:\", value)"
   ]
  },
  {
   "cell_type": "code",
   "execution_count": 77,
   "metadata": {},
   "outputs": [
    {
     "name": "stdout",
     "output_type": "stream",
     "text": [
      "2D Gaussian-like array:\n",
      "[[0.01924282 0.0424048  0.07669634 0.11385387 0.13871849 0.13871849\n",
      "  0.11385387 0.07669634 0.0424048  0.01924282]\n",
      " [0.0424048  0.09344611 0.16901332 0.25089618 0.30568957 0.30568957\n",
      "  0.25089618 0.16901332 0.09344611 0.0424048 ]\n",
      " [0.07669634 0.16901332 0.30568957 0.45378877 0.552892   0.552892\n",
      "  0.45378877 0.30568957 0.16901332 0.07669634]\n",
      " [0.11385387 0.25089618 0.45378877 0.67363846 0.82075481 0.82075481\n",
      "  0.67363846 0.45378877 0.25089618 0.11385387]\n",
      " [0.13871849 0.30568957 0.552892   0.82075481 1.         1.\n",
      "  0.82075481 0.552892   0.30568957 0.13871849]\n",
      " [0.13871849 0.30568957 0.552892   0.82075481 1.         1.\n",
      "  0.82075481 0.552892   0.30568957 0.13871849]\n",
      " [0.11385387 0.25089618 0.45378877 0.67363846 0.82075481 0.82075481\n",
      "  0.67363846 0.45378877 0.25089618 0.11385387]\n",
      " [0.07669634 0.16901332 0.30568957 0.45378877 0.552892   0.552892\n",
      "  0.45378877 0.30568957 0.16901332 0.07669634]\n",
      " [0.0424048  0.09344611 0.16901332 0.25089618 0.30568957 0.30568957\n",
      "  0.25089618 0.16901332 0.09344611 0.0424048 ]\n",
      " [0.01924282 0.0424048  0.07669634 0.11385387 0.13871849 0.13871849\n",
      "  0.11385387 0.07669634 0.0424048  0.01924282]]\n"
     ]
    }
   ],
   "source": [
    "## Task 056: Generate a generic 2D Gaussian-like array\n",
    "def gaussian(x, y, sigma):\n",
    "    return np.exp(-(x**2 + y**2) / (2 * sigma**2))\n",
    "\n",
    "def gaussian_array(shape, sigma):\n",
    "    # Create a grid of coordinates\n",
    "    x = np.linspace(-1, 1, shape[0])\n",
    "    y = np.linspace(-1, 1, shape[1])\n",
    "    xx, yy = np.meshgrid(x, y)\n",
    "    \n",
    "    # Calculate the Gaussian distribution for each point on the grid\n",
    "    g = gaussian(xx, yy, sigma)\n",
    "    \n",
    "    # Normalize the values to have a maximum of 1\n",
    "    g /= np.max(g)\n",
    "    \n",
    "    return g\n",
    "\n",
    "# Generate a 2D Gaussian-like array with shape (10, 10) and sigma = 0.5\n",
    "gaussian_like_array = gaussian_array((10, 10), 0.5)\n",
    "\n",
    "print(\"2D Gaussian-like array:\")\n",
    "print(gaussian_like_array)\n"
   ]
  },
  {
   "cell_type": "code",
   "execution_count": 79,
   "metadata": {},
   "outputs": [
    {
     "name": "stdout",
     "output_type": "stream",
     "text": [
      "Original array:\n",
      "[[0. 0. 0. 0. 0.]\n",
      " [0. 0. 1. 0. 1.]\n",
      " [0. 1. 0. 1. 1.]\n",
      " [0. 0. 1. 0. 0.]\n",
      " [1. 0. 0. 0. 0.]]\n",
      "\n",
      "Array after random placement:\n",
      "[[0. 0. 0. 0. 0.]\n",
      " [0. 0. 1. 0. 1.]\n",
      " [0. 1. 0. 1. 1.]\n",
      " [0. 0. 1. 0. 0.]\n",
      " [1. 0. 0. 0. 0.]]\n"
     ]
    }
   ],
   "source": [
    "## Task 057: How to randomly place p elements in a 2D array?\n",
    "def random_placement(array, p, value):\n",
    "    # Get the size of the array\n",
    "    size = array.size\n",
    "    \n",
    "    # Calculate the number of elements to place\n",
    "    num_elements = int(p * size)\n",
    "    \n",
    "    # Generate random indices\n",
    "    indices = np.random.choice(size, num_elements, replace=False)\n",
    "    \n",
    "    # Assign the value to the random indices\n",
    "    array.flat[indices] = value\n",
    "    \n",
    "    return array\n",
    "\n",
    "# Example usage\n",
    "array = np.zeros((5, 5))  # Create a 5x5 array of zeros\n",
    "p = 0.3  # Probability of placing an element\n",
    "value = 1  # Value to place\n",
    "\n",
    "# Randomly place elements in the array\n",
    "result_array = random_placement(array, p, value)\n",
    "\n",
    "print(\"Original array:\")\n",
    "print(array)\n",
    "print(\"\\nArray after random placement:\")\n",
    "print(result_array)\n"
   ]
  },
  {
   "cell_type": "code",
   "execution_count": 80,
   "metadata": {},
   "outputs": [
    {
     "name": "stdout",
     "output_type": "stream",
     "text": [
      "Original Matrix:\n",
      "[[1 2 3]\n",
      " [4 5 6]\n",
      " [7 8 9]]\n",
      "\n",
      "Result Matrix (after subtracting the mean of each row):\n",
      "[[-1.  0.  1.]\n",
      " [-1.  0.  1.]\n",
      " [-1.  0.  1.]]\n"
     ]
    }
   ],
   "source": [
    "## Task 058: Subtract the mean of each row of a matrix\n",
    "# Create a matrix\n",
    "matrix = np.array([[1, 2, 3],\n",
    "                   [4, 5, 6],\n",
    "                   [7, 8, 9]])\n",
    "\n",
    "# Calculate the mean of each row\n",
    "row_means = np.mean(matrix, axis=1, keepdims=True)\n",
    "\n",
    "# Subtract the mean of each row from the corresponding row\n",
    "result_matrix = matrix - row_means\n",
    "\n",
    "print(\"Original Matrix:\")\n",
    "print(matrix)\n",
    "print(\"\\nResult Matrix (after subtracting the mean of each row):\")\n",
    "print(result_matrix)\n"
   ]
  },
  {
   "cell_type": "code",
   "execution_count": 81,
   "metadata": {},
   "outputs": [
    {
     "name": "stdout",
     "output_type": "stream",
     "text": [
      "Original Array:\n",
      "[[1 4 2]\n",
      " [3 2 5]\n",
      " [2 1 3]]\n",
      "\n",
      "Sorted Array by the nth column:\n",
      "[[2 1 3]\n",
      " [3 2 5]\n",
      " [1 4 2]]\n"
     ]
    }
   ],
   "source": [
    "## Task 059:How to sort an array by the nth column?\n",
    "# Create an example array\n",
    "array = np.array([[1, 4, 2],\n",
    "                  [3, 2, 5],\n",
    "                  [2, 1, 3]])\n",
    "\n",
    "# Specify the column index to sort by\n",
    "n = 1\n",
    "\n",
    "# Get the indices that would sort the nth column\n",
    "indices = np.argsort(array[:, n])\n",
    "\n",
    "# Reorder the array based on the sorted indices\n",
    "sorted_array = array[indices]\n",
    "\n",
    "print(\"Original Array:\")\n",
    "print(array)\n",
    "print(\"\\nSorted Array by the nth column:\")\n",
    "print(sorted_array)\n"
   ]
  },
  {
   "cell_type": "code",
   "execution_count": 82,
   "metadata": {},
   "outputs": [
    {
     "name": "stdout",
     "output_type": "stream",
     "text": [
      "Array 1 has null columns: True\n",
      "Array 2 has null columns: False\n"
     ]
    }
   ],
   "source": [
    "## Task 060: How to tell if a given 2D array has null columns?\n",
    "def has_null_columns(array):\n",
    "    # Check if all elements in each column are zero\n",
    "    null_columns = np.all(array == 0, axis=0)\n",
    "    \n",
    "    # Return True if any column contains all zeros, indicating a null column\n",
    "    return np.any(null_columns)\n",
    "\n",
    "# to check\n",
    "array1 = np.array([[1, 0, 3],\n",
    "                   [0, 0, 0],\n",
    "                   [4, 0, 6]])\n",
    "\n",
    "array2 = np.array([[1, 2, 3],\n",
    "                   [4, 5, 6],\n",
    "                   [7, 8, 9]])\n",
    "\n",
    "print(\"Array 1 has null columns:\", has_null_columns(array1))\n",
    "print(\"Array 2 has null columns:\", has_null_columns(array2))\n"
   ]
  },
  {
   "cell_type": "code",
   "execution_count": 84,
   "metadata": {},
   "outputs": [
    {
     "name": "stdout",
     "output_type": "stream",
     "text": [
      "Nearest value to 6 in the array is: 5\n"
     ]
    }
   ],
   "source": [
    "## Task 061: Find the nearest value from a given value in an array\n",
    "array = np.array([1, 3, 5, 7, 9])\n",
    "def nearest_value(array, value):\n",
    "    # Calculate absolute differences\n",
    "    differences = np.abs(array - value)\n",
    "    \n",
    "    # Find index of the minimum difference\n",
    "    nearest_index = np.argmin(differences)\n",
    "    \n",
    "    # Get the nearest value\n",
    "    nearest_value = array[nearest_index]\n",
    "    \n",
    "    return nearest_value\n",
    "given_value = 6\n",
    "\n",
    "nearest = nearest_value(array, given_value)\n",
    "print(\"Nearest value to\", given_value, \"in the array is:\", nearest)\n"
   ]
  },
  {
   "cell_type": "code",
   "execution_count": 85,
   "metadata": {},
   "outputs": [
    {
     "name": "stdout",
     "output_type": "stream",
     "text": [
      "Sum of the two arrays: 21\n"
     ]
    }
   ],
   "source": [
    "## Task 062: Considering two arrays with shape (1,3) and (3,1), how to compute their sum using an iterator?\n",
    "array1 = np.array([[1, 2, 3]])\n",
    "array2 = np.array([[4], [5], [6]])\n",
    "total_sum = 0\n",
    "# Iterate over the elements of both arrays\n",
    "iterator = zip(array1.flat, array2.flat)\n",
    "for x, y in iterator:\n",
    "    total_sum += x + y\n",
    "\n",
    "print(\"Sum of the two arrays:\", total_sum)\n"
   ]
  },
  {
   "cell_type": "code",
   "execution_count": 86,
   "metadata": {},
   "outputs": [
    {
     "name": "stdout",
     "output_type": "stream",
     "text": [
      "Named Array:\n",
      "[[1 2 3]\n",
      " [4 5 6]]\n",
      "Name: Example Array\n"
     ]
    }
   ],
   "source": [
    "## Task 063: Create an array class that has a name attribute (\n",
    "class NamedArray(np.ndarray):\n",
    "    def __new__(cls, input_array, name=None):\n",
    "        obj = np.asarray(input_array).view(cls)\n",
    "        obj.name = name\n",
    "        return obj\n",
    "\n",
    "    def __array_finalize__(self, obj):\n",
    "        if obj is None:\n",
    "            return\n",
    "        self.name = getattr(obj, 'name', None)\n",
    "array_data = np.array([[1, 2, 3], [4, 5, 6]])\n",
    "named_array = NamedArray(array_data, name=\"Example Array\")\n",
    "\n",
    "print(\"Named Array:\")\n",
    "print(named_array)\n",
    "print(\"Name:\", named_array.name)\n"
   ]
  },
  {
   "cell_type": "code",
   "execution_count": 87,
   "metadata": {},
   "outputs": [
    {
     "name": "stdout",
     "output_type": "stream",
     "text": [
      "Resulting Vector: [1 4 3 5 6]\n"
     ]
    }
   ],
   "source": [
    "## Task 064: Consider a given vector, how to add 1 to each element indexed by a second vector (be careful with repeated indices)\n",
    "def add_one_to_indices(vector, indices):\n",
    "    result = np.copy(vector)  # Create a copy of the original vector\n",
    "    unique_indices, counts = np.unique(indices, return_counts=True)  # Find unique indices and their counts\n",
    "    result[unique_indices] += counts  # Add counts to elements at unique indices\n",
    "    return result\n",
    "vector = np.array([1, 2, 3, 4, 5])\n",
    "indices = np.array([1, 3, 1, 4])\n",
    "\n",
    "result_vector = add_one_to_indices(vector, indices)\n",
    "print(\"Resulting Vector:\", result_vector)"
   ]
  },
  {
   "cell_type": "code",
   "execution_count": 88,
   "metadata": {},
   "outputs": [
    {
     "name": "stdout",
     "output_type": "stream",
     "text": [
      "Resulting Array F: [1. 7. 7. 0. 0. 0.]\n"
     ]
    }
   ],
   "source": [
    "## Task 065: How to accumulate elements of a vector (X) to an array (F) based on an index list (I)?  \n",
    "def accumulate_elements(X, F, I):\n",
    "    F += np.bincount(I, weights=X, minlength=len(F))\n",
    "    return F\n",
    "X = np.array([1, 2, 3, 4, 5])\n",
    "F = np.zeros(6)  # Initialize F with zeros\n",
    "I = np.array([0, 1, 2, 2, 1])\n",
    "\n",
    "result_array = accumulate_elements(X, F, I)\n",
    "print(\"Resulting Array F:\", result_array)\n"
   ]
  },
  {
   "cell_type": "code",
   "execution_count": 89,
   "metadata": {},
   "outputs": [
    {
     "name": "stdout",
     "output_type": "stream",
     "text": [
      "Number of unique colors in the image: 100\n"
     ]
    }
   ],
   "source": [
    "## Task 066: Considering a (w,h,3) image of (dtype=ubyte), compute the number of unique colors\n",
    "def count_unique_colors(image):\n",
    "    # Reshape the image array to have shape (w * h, 3)\n",
    "    flattened_image = image.reshape(-1, 3)\n",
    "    \n",
    "    # Compute the number of unique colors\n",
    "    unique_colors = np.unique(flattened_image, axis=0)\n",
    "    \n",
    "    # Return the number of unique colors\n",
    "    return len(unique_colors)\n",
    "image = np.random.randint(0, 256, size=(10, 10, 3), dtype=np.ubyte)\n",
    "unique_colors_count = count_unique_colors(image)\n",
    "print(\"Number of unique colors in the image:\", unique_colors_count)"
   ]
  },
  {
   "cell_type": "code",
   "execution_count": 2,
   "metadata": {},
   "outputs": [
    {
     "name": "stdout",
     "output_type": "stream",
     "text": [
      "Original Array Shape: (2, 3, 4, 5)\n",
      "Sum Over Last Two Axes Shape: (2, 3)\n",
      "Sum Over Last Two Axes:\n",
      "[[87 67 72]\n",
      " [84 72 87]]\n"
     ]
    }
   ],
   "source": [
    "## Task 067: Considering a four dimensions array, how to get sum over the last two axis at once?\n",
    "array = np.random.randint(0, 10, size=(2, 3, 4, 5))\n",
    "\n",
    "# Get the sum over the last two axes at once\n",
    "sum_last_two_axes = np.sum(array, axis=(-2, -1))\n",
    "\n",
    "print(\"Original Array Shape:\", array.shape)\n",
    "print(\"Sum Over Last Two Axes Shape:\", sum_last_two_axes.shape)\n",
    "print(\"Sum Over Last Two Axes:\")\n",
    "print(sum_last_two_axes)"
   ]
  },
  {
   "cell_type": "code",
   "execution_count": 3,
   "metadata": {},
   "outputs": [
    {
     "name": "stdout",
     "output_type": "stream",
     "text": [
      "Subset Means: [ 2.   3.   5.5  8.  10. ]\n"
     ]
    }
   ],
   "source": [
    "## Task 068: Considering a one-dimensional vector D, how to compute means of subsets of D using a vector S of same size describing subset indices? \n",
    "def compute_subset_means(D, S):\n",
    "    unique_indices, counts = np.unique(S, return_counts=True)\n",
    "    subset_means = np.array([np.mean(D[S == idx]) for idx in unique_indices])\n",
    "    return subset_means\n",
    "D = np.array([1, 2, 3, 4, 5, 6, 7, 8, 9, 10])\n",
    "S = np.array([0, 1, 0, 1, 2, 2, 3, 3, 3, 4])\n",
    "\n",
    "subset_means = compute_subset_means(D, S)\n",
    "print(\"Subset Means:\", subset_means)"
   ]
  },
  {
   "cell_type": "code",
   "execution_count": 4,
   "metadata": {},
   "outputs": [
    {
     "name": "stdout",
     "output_type": "stream",
     "text": [
      "Dot Product:\n",
      "[[ 30  24  18]\n",
      " [ 84  69  54]\n",
      " [138 114  90]]\n",
      "\n",
      "Diagonal of Dot Product: [30 69 90]\n"
     ]
    }
   ],
   "source": [
    "## Task 069: How to get the diagonal of a dot product?\n",
    "A = np.array([[1, 2, 3],\n",
    "              [4, 5, 6],\n",
    "              [7, 8, 9]])\n",
    "B = np.array([[9, 8, 7],\n",
    "              [6, 5, 4],\n",
    "              [3, 2, 1]])\n",
    "\n",
    "# Compute the dot product of the matrices\n",
    "dot_product = np.dot(A, B)\n",
    "\n",
    "# Get the diagonal of the dot product\n",
    "diagonal_dot_product = np.diagonal(dot_product)\n",
    "\n",
    "print(\"Dot Product:\")\n",
    "print(dot_product)\n",
    "print(\"\\nDiagonal of Dot Product:\", diagonal_dot_product)"
   ]
  },
  {
   "cell_type": "code",
   "execution_count": 5,
   "metadata": {},
   "outputs": [
    {
     "name": "stdout",
     "output_type": "stream",
     "text": [
      "Original Vector: [1 2 3 4 5]\n",
      "New Vector with Zeros Interleaved: [1. 2. 3. 4. 2. 0. 0. 0. 3. 0. 0. 0. 4. 0. 0. 0. 5. 0. 0. 0.]\n"
     ]
    }
   ],
   "source": [
    "## Task 070: Consider the vector [1, 2, 3, 4, 5], how to build a new vector with 3 consecutive zeros interleaved between each value? \n",
    "original_vector = np.array([1, 2, 3, 4, 5])\n",
    "\n",
    "# Number of consecutive zeros to insert between each value\n",
    "num_zeros = 3\n",
    "\n",
    "# Build the new vector\n",
    "new_vector = np.concatenate([original_vector, np.zeros(len(original_vector) * num_zeros)])\n",
    "new_vector[::num_zeros + 1] = original_vector\n",
    "\n",
    "print(\"Original Vector:\", original_vector)\n",
    "print(\"New Vector with Zeros Interleaved:\", new_vector)"
   ]
  },
  {
   "cell_type": "code",
   "execution_count": 6,
   "metadata": {},
   "outputs": [
    {
     "name": "stdout",
     "output_type": "stream",
     "text": [
      "Array 3D Shape: (5, 5, 3)\n",
      "Array 2D Shape: (5, 5)\n",
      "Result Shape: (5, 5, 3)\n"
     ]
    }
   ],
   "source": [
    "## Task 071: Consider an array of dimension (5,5,3), how to mulitply it by an array with dimensions (5,5)?\n",
    "array_3d = np.random.randint(1, 10, size=(5, 5, 3))\n",
    "array_2d = np.random.randint(1, 10, size=(5, 5))\n",
    "\n",
    "# Multiply array_3d by array_2d using broadcasting\n",
    "result = array_3d * array_2d[:,:,np.newaxis]\n",
    "\n",
    "print(\"Array 3D Shape:\", array_3d.shape)\n",
    "print(\"Array 2D Shape:\", array_2d.shape)\n",
    "print(\"Result Shape:\", result.shape)"
   ]
  },
  {
   "cell_type": "code",
   "execution_count": 8,
   "metadata": {},
   "outputs": [
    {
     "name": "stdout",
     "output_type": "stream",
     "text": [
      "Array after swapping rows 0 and 1:\n",
      "[[4 5 6]\n",
      " [1 2 3]\n",
      " [7 8 9]]\n"
     ]
    }
   ],
   "source": [
    "## Task 072: How to swap two rows of an array?\n",
    "array = np.array([[1, 2, 3],\n",
    "                  [4, 5, 6],\n",
    "                  [7, 8, 9]])\n",
    "\n",
    "# Swap rows 0 and 1\n",
    "array[[0, 1]] = array[[1, 0]]\n",
    "\n",
    "print(\"Array after swapping rows 0 and 1:\")\n",
    "print(array)"
   ]
  },
  {
   "cell_type": "code",
   "execution_count": 9,
   "metadata": {},
   "outputs": [
    {
     "name": "stdout",
     "output_type": "stream",
     "text": [
      "Unique Line Segments:\n",
      "(9, 10)\n",
      "(2, 4)\n",
      "(1, 2)\n",
      "(3, 4)\n",
      "(2, 10)\n",
      "(4, 6)\n",
      "(5, 7)\n",
      "(7, 9)\n",
      "(6, 7)\n",
      "(8, 9)\n",
      "(1, 3)\n",
      "(1, 9)\n",
      "(3, 5)\n",
      "(6, 8)\n",
      "(8, 10)\n",
      "(2, 3)\n",
      "(4, 5)\n",
      "(5, 6)\n",
      "(1, 10)\n",
      "(7, 8)\n"
     ]
    }
   ],
   "source": [
    "## Task 073: Consider a set of 10 triplets describing 10 triangles (with shared vertices), find the set of unique line segments composing all the triangles\n",
    "triplets = [(1, 2, 3),\n",
    "            (2, 3, 4),\n",
    "            (3, 4, 5),\n",
    "            (4, 5, 6),\n",
    "            (5, 6, 7),\n",
    "            (6, 7, 8),\n",
    "            (7, 8, 9),\n",
    "            (8, 9, 10),\n",
    "            (9, 10, 1),\n",
    "            (10, 1, 2)]\n",
    "\n",
    "# Function to extract line segments from a triangle\n",
    "def get_line_segments(triangle):\n",
    "    segments = set()\n",
    "    for i in range(3):\n",
    "        segments.add(tuple(sorted([triangle[i], triangle[(i + 1) % 3]])))\n",
    "    return segments\n",
    "\n",
    "# Set to collect unique line segments\n",
    "unique_segments = set()\n",
    "\n",
    "# Iterate through each triplet and extract line segments\n",
    "for triplet in triplets:\n",
    "    triangle_segments = get_line_segments(triplet)\n",
    "    unique_segments.update(triangle_segments)\n",
    "\n",
    "print(\"Unique Line Segments:\")\n",
    "for segment in unique_segments:\n",
    "    print(segment)"
   ]
  },
  {
   "cell_type": "code",
   "execution_count": 10,
   "metadata": {},
   "outputs": [
    {
     "name": "stdout",
     "output_type": "stream",
     "text": [
      "Array A: [1 2 2 3 3 4 6]\n",
      "Result of np.bincount(A): [0 1 2 2 1 0 1]\n",
      "Original sorted array C: [0 1 2 2 1 0 1]\n"
     ]
    }
   ],
   "source": [
    "## Task 074: Given a sorted array C that corresponds to a bincount, how to produce an array A such that np.bincount(A) == C? \n",
    "def generate_array_from_bincount(C):\n",
    "    # Generate an array A such that np.bincount(A) == C\n",
    "    A = np.repeat(np.arange(len(C)), C)\n",
    "    return A\n",
    "\n",
    "# Example sorted array C corresponding to bincount\n",
    "C = np.array([0, 1, 2, 2, 1, 0, 1])\n",
    "\n",
    "# Generate array A\n",
    "A = generate_array_from_bincount(C)\n",
    "\n",
    "print(\"Array A:\", A)\n",
    "print(\"Result of np.bincount(A):\", np.bincount(A))\n",
    "print(\"Original sorted array C:\", C)"
   ]
  },
  {
   "cell_type": "code",
   "execution_count": 11,
   "metadata": {},
   "outputs": [
    {
     "name": "stdout",
     "output_type": "stream",
     "text": [
      "Original Array: [ 1  2  3  4  5  6  7  8  9 10]\n",
      "Sliding Window Averages (Window Size = 3 ): [2. 3. 4. 5. 6. 7. 8. 9.]\n"
     ]
    }
   ],
   "source": [
    "## Task 075: How to compute averages using a sliding window over an array?\n",
    "def sliding_window_average(array, window_size):\n",
    "    # Define the moving average kernel\n",
    "    kernel = np.ones(window_size) / window_size\n",
    "    \n",
    "    # Compute the moving sum using convolution\n",
    "    moving_sum = np.convolve(array, kernel, mode='valid')\n",
    "    \n",
    "    return moving_sum\n",
    "array = np.array([1, 2, 3, 4, 5, 6, 7, 8, 9, 10])\n",
    "# Window size\n",
    "window_size = 3\n",
    "# Compute sliding window averages\n",
    "averages = sliding_window_average(array, window_size)\n",
    "\n",
    "print(\"Original Array:\", array)\n",
    "print(\"Sliding Window Averages (Window Size =\", window_size, \"):\", averages)\n"
   ]
  },
  {
   "cell_type": "code",
   "execution_count": 12,
   "metadata": {},
   "outputs": [
    {
     "name": "stdout",
     "output_type": "stream",
     "text": [
      "Original Array:\n",
      "[1 2 3 4 5 6 7 8 9]\n",
      "\n",
      "Resulting 2D Array:\n",
      "[[1 2 3]\n",
      " [2 3 4]\n",
      " [3 4 5]\n",
      " [4 5 6]\n",
      " [5 6 7]\n",
      " [6 7 8]\n",
      " [7 8 9]]\n"
     ]
    }
   ],
   "source": [
    "## Task 076: Consider a one-dimensional array Z, build a two-dimensional array whose first row is (Z[0],Z[1],Z[2]) and each subsequent row is shifted by 1 (last row should be (Z[-3],Z[-2],Z[-1]) \n",
    "Z = np.array([1, 2, 3, 4, 5, 6, 7, 8, 9])\n",
    "# Calculate the number of rows in the resulting 2D array\n",
    "num_rows = len(Z) - 2\n",
    "\n",
    "# Build the two-dimensional array\n",
    "result = np.vstack([Z[i:i+3] for i in range(num_rows)])\n",
    "\n",
    "print(\"Original Array:\")\n",
    "print(Z)\n",
    "print(\"\\nResulting 2D Array:\")\n",
    "print(result)"
   ]
  },
  {
   "cell_type": "code",
   "execution_count": 13,
   "metadata": {},
   "outputs": [
    {
     "name": "stdout",
     "output_type": "stream",
     "text": [
      "Negated boolean value: False\n"
     ]
    }
   ],
   "source": [
    "## Task 077: How to negate a boolean, or to change the sign of a float inplace?\n",
    "boolean_value = True\n",
    "\n",
    "# Negate the boolean value in place\n",
    "boolean_value = not boolean_value\n",
    "\n",
    "print(\"Negated boolean value:\", boolean_value)"
   ]
  },
  {
   "cell_type": "code",
   "execution_count": 14,
   "metadata": {},
   "outputs": [
    {
     "name": "stdout",
     "output_type": "stream",
     "text": [
      "Distances to each line segment: [0.         1.41421356 4.24264069]\n"
     ]
    }
   ],
   "source": [
    "## Task 078: Consider 2 sets of points P0,P1 describing lines (2d) and a point p, how to compute distance from p to each line i (P0[i],P1[i])? \n",
    "def distance_to_line(P0, P1, p):\n",
    "    # Compute vectors representing each line segment\n",
    "    v = P1 - P0\n",
    "    \n",
    "    # Compute vectors from P0 to p\n",
    "    w = p - P0\n",
    "    \n",
    "    # Compute dot products and lengths\n",
    "    c1 = np.sum(w * v, axis=1)\n",
    "    c2 = np.sum(v * v, axis=1)\n",
    "    \n",
    "    # Compute projections\n",
    "    projection = c1 / c2\n",
    "    projection = np.clip(projection, 0, 1)  # Clamp projection to segment\n",
    "    \n",
    "    # Compute closest points on the line segments\n",
    "    closest_points = P0 + projection[:, np.newaxis] * v\n",
    "    \n",
    "    # Compute distances\n",
    "    distances = np.linalg.norm(p - closest_points, axis=1)\n",
    "    \n",
    "    return distances\n",
    "\n",
    "P0 = np.array([[1, 2], [3, 4], [5, 6]])\n",
    "P1 = np.array([[7, 8], [9, 10], [11, 12]])\n",
    "p = np.array([2, 3])\n",
    "\n",
    "distances = distance_to_line(P0, P1, p)\n",
    "print(\"Distances to each line segment:\", distances)\n"
   ]
  },
  {
   "cell_type": "code",
   "execution_count": 15,
   "metadata": {},
   "outputs": [
    {
     "name": "stdout",
     "output_type": "stream",
     "text": [
      "Distances from each point to each line:\n",
      "[[0.34299717 0.17149859 1.71498585]\n",
      " [0.9486833  1.26491106 4.11096096]\n",
      " [0.70710678 0.         0.70710678]]\n"
     ]
    }
   ],
   "source": [
    "## Task 079: Consider 2 sets of points P0,P1 describing lines (2d) and a set of points P, how to compute distance from each point j (P[j]) to each line i (P0[i],P1[i])? \n",
    "def distance_point_to_line(point, line_start, line_end):\n",
    "    \"\"\"\n",
    "    Compute the distance from a point to a line defined by two points.\n",
    "    \"\"\"\n",
    "    x0, y0 = point\n",
    "    x1, y1 = line_start\n",
    "    x2, y2 = line_end\n",
    "\n",
    "    numerator = abs((x2 - x1) * (y1 - y0) - (x1 - x0) * (y2 - y1))\n",
    "    denominator = np.sqrt((x2 - x1) ** 2 + (y2 - y1) ** 2)\n",
    "    distance = numerator / denominator\n",
    "    return distance\n",
    "\n",
    "def compute_distances_to_lines(points, line_starts, line_ends):\n",
    "    \"\"\"\n",
    "    Compute the distance from each point to each line.\n",
    "    \"\"\"\n",
    "    distances = []\n",
    "    for line_start, line_end in zip(line_starts, line_ends):\n",
    "        distances_to_line = [distance_point_to_line(point, line_start, line_end) for point in points]\n",
    "        distances.append(distances_to_line)\n",
    "    return np.array(distances)\n",
    "P0 = np.array([[1, 1], [2, 3], [4, 5]])  # Start points of lines\n",
    "P1 = np.array([[4, 6], [5, 2], [7, 8]])  # End points of lines\n",
    "P = np.array([[2, 2], [3, 4], [6, 6]])   # Points\n",
    "\n",
    "# Compute distances from each point to each line\n",
    "distances = compute_distances_to_lines(P, P0, P1)\n",
    "print(\"Distances from each point to each line:\")\n",
    "print(distances)\n"
   ]
  },
  {
   "cell_type": "code",
   "execution_count": 16,
   "metadata": {},
   "outputs": [
    {
     "name": "stdout",
     "output_type": "stream",
     "text": [
      "Original Array:\n",
      "[[ 1  2  3  4  5]\n",
      " [ 6  7  8  9 10]\n",
      " [11 12 13 14 15]\n",
      " [16 17 18 19 20]\n",
      " [21 22 23 24 25]]\n",
      "\n",
      "Subpart Centered on Element (2, 2) with Shape (3, 3):\n",
      "[[ 1  2  3]\n",
      " [ 6  7  8]\n",
      " [11 12 13]]\n"
     ]
    }
   ],
   "source": [
    "## Task 080: Consider an arbitrary array, write a function that extract a subpart with a fixed shape and centered on a given element (pad with a fill value when necessary)\n",
    "def extract_subpart(array, center, shape, fill_value=0):\n",
    "    # Calculate start and end indices for the subpart\n",
    "    start_indices = np.maximum(center - np.array(shape) // 2, 0)\n",
    "    end_indices = start_indices + shape\n",
    "    pad_width = [(start, array.shape[i] - end) for i, (start, end) in enumerate(zip(start_indices, end_indices))]\n",
    "    \n",
    "    # Pad the array if necessary\n",
    "    padded_array = np.pad(array, pad_width, mode='constant', constant_values=fill_value)\n",
    "    \n",
    "    # Extract the subpart\n",
    "    subpart = padded_array[start_indices[0]:end_indices[0], start_indices[1]:end_indices[1]]\n",
    "    \n",
    "    return subpart\n",
    "array = np.arange(1, 26).reshape(5, 5)\n",
    "center = (2, 2)  # Center element\n",
    "shape = (3, 3)   # Desired shape\n",
    "subpart = extract_subpart(array, center, shape, fill_value=0)\n",
    "\n",
    "print(\"Original Array:\")\n",
    "print(array)\n",
    "print(\"\\nSubpart Centered on Element (2, 2) with Shape (3, 3):\")\n",
    "print(subpart)\n"
   ]
  },
  {
   "cell_type": "code",
   "execution_count": 17,
   "metadata": {},
   "outputs": [
    {
     "name": "stdout",
     "output_type": "stream",
     "text": [
      "Array R:\n",
      "[array([1, 2, 3, 4]), array([2, 3, 4, 5]), array([3, 4, 5, 6]), array([4, 5, 6, 7]), array([5, 6, 7, 8]), array([6, 7, 8, 9]), array([ 7,  8,  9, 10]), array([ 8,  9, 10, 11]), array([ 9, 10, 11, 12]), array([10, 11, 12, 13]), array([11, 12, 13, 14])]\n"
     ]
    }
   ],
   "source": [
    "## Task 081: Consider an array Z = [1,2,3,4,5,6,7,8,9,10,11,12,13,14], how to generate an array R = [[1,2,3,4], [2,3,4,5], [3,4,5,6], ..., [11,12,13,14]]?\n",
    "Z = np.array([1,2,3,4,5,6,7,8,9,10,11,12,13,14])\n",
    "\n",
    "# Generate array R using a list comprehension\n",
    "R = [Z[i:i+4] for i in range(len(Z)-3)]\n",
    "\n",
    "print(\"Array R:\")\n",
    "print(R)"
   ]
  },
  {
   "cell_type": "code",
   "execution_count": 18,
   "metadata": {},
   "outputs": [
    {
     "name": "stdout",
     "output_type": "stream",
     "text": [
      "Matrix:\n",
      "[[1 2 3]\n",
      " [4 5 6]\n",
      " [7 8 9]]\n",
      "\n",
      "Rank of the Matrix: 2\n"
     ]
    }
   ],
   "source": [
    "## Task 082: Compute a matrix rank\n",
    "matrix = np.array([[1, 2, 3],\n",
    "                   [4, 5, 6],\n",
    "                   [7, 8, 9]])\n",
    "\n",
    "# Compute the rank of the matrix\n",
    "rank = np.linalg.matrix_rank(matrix)\n",
    "\n",
    "print(\"Matrix:\")\n",
    "print(matrix)\n",
    "print(\"\\nRank of the Matrix:\", rank)"
   ]
  },
  {
   "cell_type": "code",
   "execution_count": 19,
   "metadata": {},
   "outputs": [
    {
     "name": "stdout",
     "output_type": "stream",
     "text": [
      "Most frequent value in the array: 2\n"
     ]
    }
   ],
   "source": [
    "## Task 083: How to find the most frequent value in an array?\n",
    "array = np.array([1, 2, 3, 4, 1, 2, 2, 3, 2, 2])\n",
    "\n",
    "# Find the most frequent value\n",
    "most_frequent_value = np.argmax(np.bincount(array))\n",
    "\n",
    "print(\"Most frequent value in the array:\", most_frequent_value)"
   ]
  },
  {
   "cell_type": "code",
   "execution_count": 20,
   "metadata": {},
   "outputs": [
    {
     "name": "stdout",
     "output_type": "stream",
     "text": [
      "Block 1:\n",
      "[[30 12 74]\n",
      " [59  9 89]\n",
      " [65 37 67]]\n",
      "\n",
      "Block 2:\n",
      "[[12 74  9]\n",
      " [ 9 89 53]\n",
      " [37 67 82]]\n",
      "\n",
      "Block 3:\n",
      "[[74  9 78]\n",
      " [89 53 94]\n",
      " [67 82 56]]\n",
      "\n",
      "Block 4:\n",
      "[[ 9 78  9]\n",
      " [53 94 17]\n",
      " [82 56 94]]\n",
      "\n",
      "Block 5:\n",
      "[[78  9  2]\n",
      " [94 17 96]\n",
      " [56 94 33]]\n",
      "\n",
      "Block 6:\n",
      "[[ 9  2 69]\n",
      " [17 96 88]\n",
      " [94 33 56]]\n",
      "\n",
      "Block 7:\n",
      "[[ 2 69  8]\n",
      " [96 88 59]\n",
      " [33 56 56]]\n",
      "\n",
      "Block 8:\n",
      "[[69  8 63]\n",
      " [88 59  1]\n",
      " [56 56 44]]\n",
      "\n",
      "Block 9:\n",
      "[[59  9 89]\n",
      " [65 37 67]\n",
      " [38 20  5]]\n",
      "\n",
      "Block 10:\n",
      "[[ 9 89 53]\n",
      " [37 67 82]\n",
      " [20  5 67]]\n",
      "\n",
      "Block 11:\n",
      "[[89 53 94]\n",
      " [67 82 56]\n",
      " [ 5 67 99]]\n",
      "\n",
      "Block 12:\n",
      "[[53 94 17]\n",
      " [82 56 94]\n",
      " [67 99 99]]\n",
      "\n",
      "Block 13:\n",
      "[[94 17 96]\n",
      " [56 94 33]\n",
      " [99 99 17]]\n",
      "\n",
      "Block 14:\n",
      "[[17 96 88]\n",
      " [94 33 56]\n",
      " [99 17 40]]\n",
      "\n",
      "Block 15:\n",
      "[[96 88 59]\n",
      " [33 56 56]\n",
      " [17 40 73]]\n",
      "\n",
      "Block 16:\n",
      "[[88 59  1]\n",
      " [56 56 44]\n",
      " [40 73 47]]\n",
      "\n",
      "Block 17:\n",
      "[[65 37 67]\n",
      " [38 20  5]\n",
      " [ 5 39 21]]\n",
      "\n",
      "Block 18:\n",
      "[[37 67 82]\n",
      " [20  5 67]\n",
      " [39 21 74]]\n",
      "\n",
      "Block 19:\n",
      "[[67 82 56]\n",
      " [ 5 67 99]\n",
      " [21 74 59]]\n",
      "\n",
      "Block 20:\n",
      "[[82 56 94]\n",
      " [67 99 99]\n",
      " [74 59 76]]\n",
      "\n",
      "Block 21:\n",
      "[[56 94 33]\n",
      " [99 99 17]\n",
      " [59 76 43]]\n",
      "\n",
      "Block 22:\n",
      "[[94 33 56]\n",
      " [99 17 40]\n",
      " [76 43 86]]\n",
      "\n",
      "Block 23:\n",
      "[[33 56 56]\n",
      " [17 40 73]\n",
      " [43 86 52]]\n",
      "\n",
      "Block 24:\n",
      "[[56 56 44]\n",
      " [40 73 47]\n",
      " [86 52 27]]\n",
      "\n",
      "Block 25:\n",
      "[[38 20  5]\n",
      " [ 5 39 21]\n",
      " [84 54 63]]\n",
      "\n",
      "Block 26:\n",
      "[[20  5 67]\n",
      " [39 21 74]\n",
      " [54 63 33]]\n",
      "\n",
      "Block 27:\n",
      "[[ 5 67 99]\n",
      " [21 74 59]\n",
      " [63 33 53]]\n",
      "\n",
      "Block 28:\n",
      "[[67 99 99]\n",
      " [74 59 76]\n",
      " [33 53 18]]\n",
      "\n",
      "Block 29:\n",
      "[[99 99 17]\n",
      " [59 76 43]\n",
      " [53 18 63]]\n",
      "\n",
      "Block 30:\n",
      "[[99 17 40]\n",
      " [76 43 86]\n",
      " [18 63 70]]\n",
      "\n",
      "Block 31:\n",
      "[[17 40 73]\n",
      " [43 86 52]\n",
      " [63 70 46]]\n",
      "\n",
      "Block 32:\n",
      "[[40 73 47]\n",
      " [86 52 27]\n",
      " [70 46 28]]\n",
      "\n",
      "Block 33:\n",
      "[[ 5 39 21]\n",
      " [84 54 63]\n",
      " [45 42 63]]\n",
      "\n",
      "Block 34:\n",
      "[[39 21 74]\n",
      " [54 63 33]\n",
      " [42 63 35]]\n",
      "\n",
      "Block 35:\n",
      "[[21 74 59]\n",
      " [63 33 53]\n",
      " [63 35 52]]\n",
      "\n",
      "Block 36:\n",
      "[[74 59 76]\n",
      " [33 53 18]\n",
      " [35 52 90]]\n",
      "\n",
      "Block 37:\n",
      "[[59 76 43]\n",
      " [53 18 63]\n",
      " [52 90 83]]\n",
      "\n",
      "Block 38:\n",
      "[[76 43 86]\n",
      " [18 63 70]\n",
      " [90 83  7]]\n",
      "\n",
      "Block 39:\n",
      "[[43 86 52]\n",
      " [63 70 46]\n",
      " [83  7 46]]\n",
      "\n",
      "Block 40:\n",
      "[[86 52 27]\n",
      " [70 46 28]\n",
      " [ 7 46 65]]\n",
      "\n",
      "Block 41:\n",
      "[[84 54 63]\n",
      " [45 42 63]\n",
      " [46 28 81]]\n",
      "\n",
      "Block 42:\n",
      "[[54 63 33]\n",
      " [42 63 35]\n",
      " [28 81 46]]\n",
      "\n",
      "Block 43:\n",
      "[[63 33 53]\n",
      " [63 35 52]\n",
      " [81 46 20]]\n",
      "\n",
      "Block 44:\n",
      "[[33 53 18]\n",
      " [35 52 90]\n",
      " [46 20 75]]\n",
      "\n",
      "Block 45:\n",
      "[[53 18 63]\n",
      " [52 90 83]\n",
      " [20 75 12]]\n",
      "\n",
      "Block 46:\n",
      "[[18 63 70]\n",
      " [90 83  7]\n",
      " [75 12 38]]\n",
      "\n",
      "Block 47:\n",
      "[[63 70 46]\n",
      " [83  7 46]\n",
      " [12 38 57]]\n",
      "\n",
      "Block 48:\n",
      "[[70 46 28]\n",
      " [ 7 46 65]\n",
      " [38 57 70]]\n",
      "\n",
      "Block 49:\n",
      "[[45 42 63]\n",
      " [46 28 81]\n",
      " [56 17  2]]\n",
      "\n",
      "Block 50:\n",
      "[[42 63 35]\n",
      " [28 81 46]\n",
      " [17  2 99]]\n",
      "\n",
      "Block 51:\n",
      "[[63 35 52]\n",
      " [81 46 20]\n",
      " [ 2 99 32]]\n",
      "\n",
      "Block 52:\n",
      "[[35 52 90]\n",
      " [46 20 75]\n",
      " [99 32 58]]\n",
      "\n",
      "Block 53:\n",
      "[[52 90 83]\n",
      " [20 75 12]\n",
      " [32 58 95]]\n",
      "\n",
      "Block 54:\n",
      "[[90 83  7]\n",
      " [75 12 38]\n",
      " [58 95 26]]\n",
      "\n",
      "Block 55:\n",
      "[[83  7 46]\n",
      " [12 38 57]\n",
      " [95 26 76]]\n",
      "\n",
      "Block 56:\n",
      "[[ 7 46 65]\n",
      " [38 57 70]\n",
      " [26 76  1]]\n",
      "\n",
      "Block 57:\n",
      "[[46 28 81]\n",
      " [56 17  2]\n",
      " [37 69 67]]\n",
      "\n",
      "Block 58:\n",
      "[[28 81 46]\n",
      " [17  2 99]\n",
      " [69 67 73]]\n",
      "\n",
      "Block 59:\n",
      "[[81 46 20]\n",
      " [ 2 99 32]\n",
      " [67 73 27]]\n",
      "\n",
      "Block 60:\n",
      "[[46 20 75]\n",
      " [99 32 58]\n",
      " [73 27 60]]\n",
      "\n",
      "Block 61:\n",
      "[[20 75 12]\n",
      " [32 58 95]\n",
      " [27 60 80]]\n",
      "\n",
      "Block 62:\n",
      "[[75 12 38]\n",
      " [58 95 26]\n",
      " [60 80 10]]\n",
      "\n",
      "Block 63:\n",
      "[[12 38 57]\n",
      " [95 26 76]\n",
      " [80 10 85]]\n",
      "\n",
      "Block 64:\n",
      "[[38 57 70]\n",
      " [26 76  1]\n",
      " [10 85 37]]\n",
      "\n"
     ]
    }
   ],
   "source": [
    "## Task 084: Extract all the contiguous 3x3 blocks from a random 10x10 matrix\n",
    "matrix = np.random.randint(1, 100, size=(10, 10))\n",
    "\n",
    "# Extract all contiguous 3x3 blocks\n",
    "contiguous_blocks = []\n",
    "for i in range(8):  # iterate through rows\n",
    "    for j in range(8):  # iterate through columns\n",
    "        block = matrix[i:i+3, j:j+3]  # extract 3x3 block\n",
    "        contiguous_blocks.append(block)\n",
    "\n",
    "# Print the extracted blocks\n",
    "for idx, block in enumerate(contiguous_blocks, 1):\n",
    "    print(f\"Block {idx}:\")\n",
    "    print(block)\n",
    "    print()"
   ]
  },
  {
   "cell_type": "code",
   "execution_count": 21,
   "metadata": {},
   "outputs": [
    {
     "name": "stdout",
     "output_type": "stream",
     "text": [
      "[[0. 2. 0.]\n",
      " [2. 0. 0.]\n",
      " [0. 0. 0.]]\n",
      "Z[0, 1] == Z[1, 0]: True\n"
     ]
    }
   ],
   "source": [
    "## Task 085: Create a 2D array subclass such that Z[i,j] == Z[j,i] \n",
    "class SymmetricArray(np.ndarray):\n",
    "    def __new__(cls, input_array):\n",
    "        obj = np.asarray(input_array).view(cls)\n",
    "        return obj\n",
    "\n",
    "    def __setitem__(self, index, value):\n",
    "        i, j = index\n",
    "        super().__setitem__((i, j), value)\n",
    "        super().__setitem__((j, i), value)\n",
    "input_array = np.zeros((3, 3))\n",
    "symmetric_array = SymmetricArray(input_array)\n",
    "\n",
    "symmetric_array[0, 1] = 2  # Setting Z[0, 1] to 2\n",
    "print(symmetric_array)\n",
    "print(\"Z[0, 1] == Z[1, 0]:\", symmetric_array[0, 1] == symmetric_array[1, 0])  # True\n"
   ]
  },
  {
   "cell_type": "code",
   "execution_count": 22,
   "metadata": {},
   "outputs": [
    {
     "name": "stdout",
     "output_type": "stream",
     "text": [
      "Sum of Matrix Products Shape: (4, 1)\n",
      "Sum of Matrix Products:\n",
      "[[382]\n",
      " [514]\n",
      " [402]\n",
      " [338]]\n"
     ]
    }
   ],
   "source": [
    "## Task 086: Consider a set of p matrices with shape (n,n) and a set of p vectors with shape (n,1). How to compute the sum of of the p matrix products at once? (result has shape (n,1)) \n",
    "p = 3\n",
    "n = 4\n",
    "\n",
    "# Generate random matrices and vectors\n",
    "matrices = np.random.randint(1, 10, size=(p, n, n))\n",
    "vectors = np.random.randint(1, 10, size=(p, n, 1))\n",
    "\n",
    "# Compute the sum of matrix products\n",
    "sum_matrix_products = np.sum(matrices @ vectors, axis=0)\n",
    "\n",
    "print(\"Sum of Matrix Products Shape:\", sum_matrix_products.shape)\n",
    "print(\"Sum of Matrix Products:\")\n",
    "print(sum_matrix_products)"
   ]
  },
  {
   "cell_type": "code",
   "execution_count": 23,
   "metadata": {},
   "outputs": [
    {
     "name": "stdout",
     "output_type": "stream",
     "text": [
      "Original Array:\n",
      "[[6 1 9 6 5 2 9 9 6 3 9 3 1 2 7 8]\n",
      " [5 5 4 8 8 5 6 1 4 5 2 6 9 6 9 4]\n",
      " [9 9 7 3 3 2 8 4 7 2 1 9 2 3 6 6]\n",
      " [9 1 3 3 3 9 8 3 8 9 5 2 5 2 6 1]\n",
      " [1 5 5 1 9 5 7 1 3 1 3 1 1 3 4 8]\n",
      " [2 8 3 8 1 4 5 5 6 2 2 2 2 8 9 6]\n",
      " [7 5 2 7 3 9 1 1 7 3 6 7 5 9 1 1]\n",
      " [2 6 5 6 8 7 8 9 9 8 5 3 4 5 5 6]\n",
      " [2 2 6 5 2 7 1 9 4 1 1 6 9 5 2 6]\n",
      " [9 3 4 8 6 6 9 3 7 9 5 8 6 2 2 6]\n",
      " [6 2 6 8 4 3 9 3 7 7 2 2 3 9 8 9]\n",
      " [6 1 5 3 7 1 7 9 6 4 6 1 1 1 5 6]\n",
      " [2 5 4 7 8 2 4 3 1 3 8 7 4 1 5 4]\n",
      " [2 3 8 9 9 2 9 3 6 8 4 4 1 9 5 8]\n",
      " [4 6 8 4 9 2 9 8 4 9 1 3 8 1 2 8]\n",
      " [5 8 4 2 1 3 8 6 7 6 3 7 2 6 7 6]]\n",
      "\n",
      "Block-Sum (Block Size 4x4):\n",
      "[[88 85 81 77]\n",
      " [73 83 68 77]\n",
      " [76 86 76 80]\n",
      " [81 86 81 77]]\n"
     ]
    }
   ],
   "source": [
    "## Task 087: Consider a 16x16 array, how to get the block-sum (block size is 4x4)? \n",
    "array = np.random.randint(1, 10, size=(16, 16))\n",
    "# Define the block size\n",
    "block_size = 4\n",
    "# Calculate the number of blocks along each dimension\n",
    "num_blocks = array.shape[0] // block_size\n",
    "# Reshape the array into a 4D array where each block is a 4x4 sub-array\n",
    "blocks = array.reshape(num_blocks, block_size, num_blocks, block_size)\n",
    "# Sum along the last two dimensions to get the block-sum\n",
    "block_sum = np.sum(blocks, axis=(1, 3))\n",
    "\n",
    "print(\"Original Array:\")\n",
    "print(array)\n",
    "print(\"\\nBlock-Sum (Block Size 4x4):\")\n",
    "print(block_sum)"
   ]
  },
  {
   "cell_type": "code",
   "execution_count": 27,
   "metadata": {},
   "outputs": [
    {
     "name": "stdout",
     "output_type": "stream",
     "text": [
      "Collecting matplotlib\n",
      "  Downloading matplotlib-3.7.5-cp38-cp38-manylinux_2_12_x86_64.manylinux2010_x86_64.whl.metadata (5.7 kB)\n",
      "Collecting contourpy>=1.0.1 (from matplotlib)\n",
      "  Downloading contourpy-1.1.1-cp38-cp38-manylinux_2_17_x86_64.manylinux2014_x86_64.whl.metadata (5.9 kB)\n",
      "Collecting cycler>=0.10 (from matplotlib)\n",
      "  Downloading cycler-0.12.1-py3-none-any.whl.metadata (3.8 kB)\n",
      "Collecting fonttools>=4.22.0 (from matplotlib)\n",
      "  Downloading fonttools-4.49.0-cp38-cp38-manylinux_2_17_x86_64.manylinux2014_x86_64.whl.metadata (159 kB)\n",
      "\u001b[2K     \u001b[90m━━━━━━━━━━━━━━━━━━━━━━━━━━━━━━━━━━━━━\u001b[0m \u001b[32m159.1/159.1 kB\u001b[0m \u001b[31m290.9 kB/s\u001b[0m eta \u001b[36m0:00:00\u001b[0ma \u001b[36m0:00:01\u001b[0m\n",
      "\u001b[?25hCollecting kiwisolver>=1.0.1 (from matplotlib)\n",
      "  Downloading kiwisolver-1.4.5-cp38-cp38-manylinux_2_5_x86_64.manylinux1_x86_64.whl.metadata (6.4 kB)\n",
      "Requirement already satisfied: numpy<2,>=1.20 in /home/halima/miniconda3/envs/ArewaDS/lib/python3.8/site-packages (from matplotlib) (1.24.4)\n",
      "Requirement already satisfied: packaging>=20.0 in /home/halima/miniconda3/envs/ArewaDS/lib/python3.8/site-packages (from matplotlib) (23.2)\n",
      "Collecting pillow>=6.2.0 (from matplotlib)\n",
      "  Downloading pillow-10.2.0-cp38-cp38-manylinux_2_28_x86_64.whl.metadata (9.7 kB)\n",
      "Collecting pyparsing>=2.3.1 (from matplotlib)\n",
      "  Downloading pyparsing-3.1.1-py3-none-any.whl.metadata (5.1 kB)\n",
      "Requirement already satisfied: python-dateutil>=2.7 in /home/halima/miniconda3/envs/ArewaDS/lib/python3.8/site-packages (from matplotlib) (2.8.2)\n",
      "Collecting importlib-resources>=3.2.0 (from matplotlib)\n",
      "  Downloading importlib_resources-6.1.1-py3-none-any.whl.metadata (4.1 kB)\n",
      "Requirement already satisfied: zipp>=3.1.0 in /home/halima/miniconda3/envs/ArewaDS/lib/python3.8/site-packages (from importlib-resources>=3.2.0->matplotlib) (3.17.0)\n",
      "Requirement already satisfied: six>=1.5 in /home/halima/miniconda3/envs/ArewaDS/lib/python3.8/site-packages (from python-dateutil>=2.7->matplotlib) (1.16.0)\n",
      "Downloading matplotlib-3.7.5-cp38-cp38-manylinux_2_12_x86_64.manylinux2010_x86_64.whl (9.2 MB)\n",
      "\u001b[2K   \u001b[90m━━━━━━━━━━━━━━━━━━━━━━━━━━━━━━━━━━━━━━━━\u001b[0m \u001b[32m9.2/9.2 MB\u001b[0m \u001b[31m405.3 kB/s\u001b[0m eta \u001b[36m0:00:00\u001b[0m00:01\u001b[0m00:01\u001b[0m\n",
      "\u001b[?25hDownloading contourpy-1.1.1-cp38-cp38-manylinux_2_17_x86_64.manylinux2014_x86_64.whl (301 kB)\n",
      "\u001b[2K   \u001b[90m━━━━━━━━━━━━━━━━━━━━━━━━━━━━━━━━━━━━━━━\u001b[0m \u001b[32m301.1/301.1 kB\u001b[0m \u001b[31m332.0 kB/s\u001b[0m eta \u001b[36m0:00:00\u001b[0m00:01\u001b[0m00:01\u001b[0m\n",
      "\u001b[?25hDownloading cycler-0.12.1-py3-none-any.whl (8.3 kB)\n",
      "Downloading fonttools-4.49.0-cp38-cp38-manylinux_2_17_x86_64.manylinux2014_x86_64.whl (4.7 MB)\n",
      "\u001b[2K   \u001b[90m━━━━━━━━━━━━━━━━━━━━━━━━━━━━━━━━━━━━━━━━\u001b[0m \u001b[32m4.7/4.7 MB\u001b[0m \u001b[31m386.7 kB/s\u001b[0m eta \u001b[36m0:00:00\u001b[0m00:01\u001b[0m00:01\u001b[0m\n",
      "\u001b[?25hDownloading importlib_resources-6.1.1-py3-none-any.whl (33 kB)\n",
      "Downloading kiwisolver-1.4.5-cp38-cp38-manylinux_2_5_x86_64.manylinux1_x86_64.whl (1.2 MB)\n",
      "\u001b[2K   \u001b[90m━━━━━━━━━━━━━━━━━━━━━━━━━━━━━━━━━━━━━━━━\u001b[0m \u001b[32m1.2/1.2 MB\u001b[0m \u001b[31m478.6 kB/s\u001b[0m eta \u001b[36m0:00:00\u001b[0m00:01\u001b[0m00:01\u001b[0m\n",
      "\u001b[?25hDownloading pillow-10.2.0-cp38-cp38-manylinux_2_28_x86_64.whl (4.5 MB)\n",
      "\u001b[2K   \u001b[90m━━━━━━━━━━━━━━━━━━━━━━━━━━━━━━━━━━━━━━━━\u001b[0m \u001b[32m4.5/4.5 MB\u001b[0m \u001b[31m582.4 kB/s\u001b[0m eta \u001b[36m0:00:00\u001b[0m00:01\u001b[0m00:01\u001b[0m\n",
      "\u001b[?25hDownloading pyparsing-3.1.1-py3-none-any.whl (103 kB)\n",
      "\u001b[2K   \u001b[90m━━━━━━━━━━━━━━━━━━━━━━━━━━━━━━━━━━━━━━━\u001b[0m \u001b[32m103.1/103.1 kB\u001b[0m \u001b[31m106.7 kB/s\u001b[0m eta \u001b[36m0:00:00\u001b[0m00:01\u001b[0m\n",
      "\u001b[?25hInstalling collected packages: pyparsing, pillow, kiwisolver, importlib-resources, fonttools, cycler, contourpy, matplotlib\n",
      "Successfully installed contourpy-1.1.1 cycler-0.12.1 fonttools-4.49.0 importlib-resources-6.1.1 kiwisolver-1.4.5 matplotlib-3.7.5 pillow-10.2.0 pyparsing-3.1.1\n",
      "Note: you may need to restart the kernel to use updated packages.\n"
     ]
    }
   ],
   "source": [
    "pip install matplotlib "
   ]
  },
  {
   "cell_type": "code",
   "execution_count": 28,
   "metadata": {},
   "outputs": [
    {
     "name": "stderr",
     "output_type": "stream",
     "text": [
      "Matplotlib is building the font cache; this may take a moment.\n",
      "/tmp/ipykernel_2499/3094532371.py:38: UserWarning: You passed in an explicit save_count=50 which is being ignored in favor of frames=10.\n",
      "  ani = animation.FuncAnimation(fig, update, fargs=(img, grid, N,),\n"
     ]
    },
    {
     "data": {
      "image/png": "[encoded data removed]",
      "text/plain": [
       "<Figure size 640x480 with 1 Axes>"
      ]
     },
     "metadata": {},
     "output_type": "display_data"
    }
   ],
   "source": [
    "## Task 088: How to implement the Game of Life using numpy arrays?\n",
    "import matplotlib.pyplot as plt\n",
    "import matplotlib.animation as animation\n",
    "\n",
    "# Function to update the game state\n",
    "def update(frameNum, img, grid, N):\n",
    "    newGrid = grid.copy()\n",
    "    for i in range(N):\n",
    "        for j in range(N):\n",
    "            # Compute the number of neighbors for each cell\n",
    "            total = int((grid[i, (j-1)%N] + grid[i, (j+1)%N] +\n",
    "                         grid[(i-1)%N, j] + grid[(i+1)%N, j] +\n",
    "                         grid[(i-1)%N, (j-1)%N] + grid[(i-1)%N, (j+1)%N] +\n",
    "                         grid[(i+1)%N, (j-1)%N] + grid[(i+1)%N, (j+1)%N])/255)\n",
    "            # Apply the rules of the Game of Life\n",
    "            if grid[i, j] == ON:\n",
    "                if (total < 2) or (total > 3):\n",
    "                    newGrid[i, j] = OFF\n",
    "            else:\n",
    "                if total == 3:\n",
    "                    newGrid[i, j] = ON\n",
    "    img.set_data(newGrid)\n",
    "    grid[:] = newGrid[:]\n",
    "    return img,\n",
    "\n",
    "# Constants\n",
    "ON = 255\n",
    "OFF = 0\n",
    "N = 100  # Grid size\n",
    "updateInterval = 50  # Update interval in milliseconds\n",
    "\n",
    "# Create a random initial grid\n",
    "grid = np.random.choice([ON, OFF], N*N, p=[0.2, 0.8]).reshape(N, N)\n",
    "\n",
    "# Set up the animation\n",
    "fig, ax = plt.subplots()\n",
    "img = ax.imshow(grid, interpolation='nearest')\n",
    "ani = animation.FuncAnimation(fig, update, fargs=(img, grid, N,),\n",
    "                              frames=10, interval=updateInterval,\n",
    "                              save_count=50)\n",
    "\n",
    "plt.show()\n"
   ]
  },
  {
   "cell_type": "code",
   "execution_count": 29,
   "metadata": {},
   "outputs": [
    {
     "name": "stdout",
     "output_type": "stream",
     "text": [
      "Array: [ 1  3  5  7  9  2  4  6  8 10]\n",
      "3 Largest Values: [10  9  8]\n"
     ]
    }
   ],
   "source": [
    "## Task 089: How to get the n largest values of an array\n",
    "array = np.array([1, 3, 5, 7, 9, 2, 4, 6, 8, 10])\n",
    "\n",
    "# Number of largest values to get\n",
    "n_largest = 3\n",
    "\n",
    "# Get the indices of the n largest values using np.argpartition\n",
    "indices = np.argpartition(-array, n_largest)[:n_largest]\n",
    "\n",
    "# Get the n largest values\n",
    "n_largest_values = array[indices]\n",
    "\n",
    "print(\"Array:\", array)\n",
    "print(f\"{n_largest} Largest Values:\", n_largest_values)"
   ]
  },
  {
   "cell_type": "code",
   "execution_count": 31,
   "metadata": {},
   "outputs": [
    {
     "name": "stdout",
     "output_type": "stream",
     "text": [
      "Cartesian Product:\n",
      "(1, 3, 'a')\n",
      "(1, 3, 'b')\n",
      "(1, 3, 'c')\n",
      "(1, 4, 'a')\n",
      "(1, 4, 'b')\n",
      "(1, 4, 'c')\n",
      "(1, 5, 'a')\n",
      "(1, 5, 'b')\n",
      "(1, 5, 'c')\n",
      "(2, 3, 'a')\n",
      "(2, 3, 'b')\n",
      "(2, 3, 'c')\n",
      "(2, 4, 'a')\n",
      "(2, 4, 'b')\n",
      "(2, 4, 'c')\n",
      "(2, 5, 'a')\n",
      "(2, 5, 'b')\n",
      "(2, 5, 'c')\n"
     ]
    }
   ],
   "source": [
    "## Task 090: Given an arbitrary number of vectors, build the cartesian product (every combinations of every item) \n",
    "from itertools import product\n",
    "vectors = [(1, 2), (3, 4, 5), ('a', 'b', 'c')]\n",
    "\n",
    "# Calculate the cartesian product\n",
    "cartesian_product = list(product(*vectors))\n",
    "\n",
    "print(\"Cartesian Product:\")\n",
    "for item in cartesian_product:\n",
    "    print(item)\n"
   ]
  },
  {
   "cell_type": "code",
   "execution_count": 34,
   "metadata": {},
   "outputs": [
    {
     "ename": "ValueError",
     "evalue": "invalid literal for int() with base 10: 'Jo'",
     "output_type": "error",
     "traceback": [
      "\u001b[0;31m---------------------------------------------------------------------------\u001b[0m",
      "\u001b[0;31mValueError\u001b[0m                                Traceback (most recent call last)",
      "Cell \u001b[0;32mIn[34], line 10\u001b[0m\n\u001b[1;32m      7\u001b[0m dtype \u001b[38;5;241m=\u001b[39m [(\u001b[38;5;124m'\u001b[39m\u001b[38;5;124mID\u001b[39m\u001b[38;5;124m'\u001b[39m, \u001b[38;5;28mint\u001b[39m), (\u001b[38;5;124m'\u001b[39m\u001b[38;5;124mName\u001b[39m\u001b[38;5;124m'\u001b[39m, \u001b[38;5;124m'\u001b[39m\u001b[38;5;124mU10\u001b[39m\u001b[38;5;124m'\u001b[39m), (\u001b[38;5;124m'\u001b[39m\u001b[38;5;124mAge\u001b[39m\u001b[38;5;124m'\u001b[39m, \u001b[38;5;28mint\u001b[39m)]\n\u001b[1;32m      9\u001b[0m \u001b[38;5;66;03m# Create the record array\u001b[39;00m\n\u001b[0;32m---> 10\u001b[0m record_array \u001b[38;5;241m=\u001b[39m \u001b[43mnp\u001b[49m\u001b[38;5;241;43m.\u001b[39;49m\u001b[43marray\u001b[49m\u001b[43m(\u001b[49m\u001b[43mregular_array\u001b[49m\u001b[43m,\u001b[49m\u001b[43m \u001b[49m\u001b[43mdtype\u001b[49m\u001b[38;5;241;43m=\u001b[39;49m\u001b[43mdtype\u001b[49m\u001b[43m)\u001b[49m\n\u001b[1;32m     12\u001b[0m \u001b[38;5;28mprint\u001b[39m(\u001b[38;5;124m\"\u001b[39m\u001b[38;5;124mRegular Array:\u001b[39m\u001b[38;5;124m\"\u001b[39m)\n\u001b[1;32m     13\u001b[0m \u001b[38;5;28mprint\u001b[39m(regular_array)\n",
      "\u001b[0;31mValueError\u001b[0m: invalid literal for int() with base 10: 'Jo'"
     ]
    }
   ],
   "source": [
    "## Task 091: How to create a record array from a regular array? \n",
    "regular_array = np.array([[1, 'Jo', 20],\n",
    "                          [2, 'Jane', 30],\n",
    "                          [3, 'Doe', 40]])\n",
    "\n",
    "# Define the data type for the record array\n",
    "dtype = [('ID', int), ('Name', 'U10'), ('Age', int)]\n",
    "\n",
    "# Create the record array\n",
    "record_array = np.array(regular_array, dtype=dtype)\n",
    "\n",
    "print(\"Regular Array:\")\n",
    "print(regular_array)\n",
    "print(\"\\nRecord Array:\")\n",
    "print(record_array)"
   ]
  },
  {
   "cell_type": "code",
   "execution_count": 36,
   "metadata": {},
   "outputs": [],
   "source": [
    "## Task 092: Consider a large vector Z, compute Z to the power of 3 using 3 different methods \n",
    "# Method 1: Using NumPy's power function\n",
    "Z_cube_method1 = np.power(Z, 3)\n",
    "\n",
    "# Method 2: Using the ** operator\n",
    "Z_cube_method2 = Z ** 3\n",
    "\n",
    "# Method 3: Using a loop\n",
    "Z_cube_method3 = np.zeros_like(Z)\n",
    "for i in range(len(Z)):\n",
    "    Z_cube_method3[i] = Z[i] ** 3"
   ]
  },
  {
   "cell_type": "code",
   "execution_count": 38,
   "metadata": {},
   "outputs": [
    {
     "name": "stderr",
     "output_type": "stream",
     "text": [
      "/tmp/ipykernel_2499/1873953408.py:18: DeprecationWarning: elementwise comparison failed; this will raise an error in the future.\n",
      "  matches = np.all(np.any(A == B_reshaped, axis=0), axis=1)\n"
     ]
    },
    {
     "ename": "AxisError",
     "evalue": "axis 1 is out of bounds for array of dimension 0",
     "output_type": "error",
     "traceback": [
      "\u001b[0;31m---------------------------------------------------------------------------\u001b[0m",
      "\u001b[0;31mAxisError\u001b[0m                                 Traceback (most recent call last)",
      "Cell \u001b[0;32mIn[38], line 18\u001b[0m\n\u001b[1;32m     15\u001b[0m B_reshaped \u001b[38;5;241m=\u001b[39m B[:, :, np\u001b[38;5;241m.\u001b[39mnewaxis]\n\u001b[1;32m     17\u001b[0m \u001b[38;5;66;03m# Check for matches between A and B using broadcasting and boolean masking\u001b[39;00m\n\u001b[0;32m---> 18\u001b[0m matches \u001b[38;5;241m=\u001b[39m \u001b[43mnp\u001b[49m\u001b[38;5;241;43m.\u001b[39;49m\u001b[43mall\u001b[49m\u001b[43m(\u001b[49m\u001b[43mnp\u001b[49m\u001b[38;5;241;43m.\u001b[39;49m\u001b[43many\u001b[49m\u001b[43m(\u001b[49m\u001b[43mA\u001b[49m\u001b[43m \u001b[49m\u001b[38;5;241;43m==\u001b[39;49m\u001b[43m \u001b[49m\u001b[43mB_reshaped\u001b[49m\u001b[43m,\u001b[49m\u001b[43m \u001b[49m\u001b[43maxis\u001b[49m\u001b[38;5;241;43m=\u001b[39;49m\u001b[38;5;241;43m0\u001b[39;49m\u001b[43m)\u001b[49m\u001b[43m,\u001b[49m\u001b[43m \u001b[49m\u001b[43maxis\u001b[49m\u001b[38;5;241;43m=\u001b[39;49m\u001b[38;5;241;43m1\u001b[39;49m\u001b[43m)\u001b[49m\n\u001b[1;32m     20\u001b[0m \u001b[38;5;66;03m# Extract rows of A that contain elements of each row of B\u001b[39;00m\n\u001b[1;32m     21\u001b[0m result \u001b[38;5;241m=\u001b[39m A[matches]\n",
      "File \u001b[0;32m<__array_function__ internals>:200\u001b[0m, in \u001b[0;36mall\u001b[0;34m(*args, **kwargs)\u001b[0m\n",
      "File \u001b[0;32m~/miniconda3/envs/ArewaDS/lib/python3.8/site-packages/numpy/core/fromnumeric.py:2515\u001b[0m, in \u001b[0;36mall\u001b[0;34m(a, axis, out, keepdims, where)\u001b[0m\n\u001b[1;32m   2432\u001b[0m \u001b[38;5;129m@array_function_dispatch\u001b[39m(_all_dispatcher)\n\u001b[1;32m   2433\u001b[0m \u001b[38;5;28;01mdef\u001b[39;00m \u001b[38;5;21mall\u001b[39m(a, axis\u001b[38;5;241m=\u001b[39m\u001b[38;5;28;01mNone\u001b[39;00m, out\u001b[38;5;241m=\u001b[39m\u001b[38;5;28;01mNone\u001b[39;00m, keepdims\u001b[38;5;241m=\u001b[39mnp\u001b[38;5;241m.\u001b[39m_NoValue, \u001b[38;5;241m*\u001b[39m, where\u001b[38;5;241m=\u001b[39mnp\u001b[38;5;241m.\u001b[39m_NoValue):\n\u001b[1;32m   2434\u001b[0m \u001b[38;5;250m    \u001b[39m\u001b[38;5;124;03m\"\"\"\u001b[39;00m\n\u001b[1;32m   2435\u001b[0m \u001b[38;5;124;03m    Test whether all array elements along a given axis evaluate to True.\u001b[39;00m\n\u001b[1;32m   2436\u001b[0m \n\u001b[0;32m   (...)\u001b[0m\n\u001b[1;32m   2513\u001b[0m \n\u001b[1;32m   2514\u001b[0m \u001b[38;5;124;03m    \"\"\"\u001b[39;00m\n\u001b[0;32m-> 2515\u001b[0m     \u001b[38;5;28;01mreturn\u001b[39;00m \u001b[43m_wrapreduction\u001b[49m\u001b[43m(\u001b[49m\u001b[43ma\u001b[49m\u001b[43m,\u001b[49m\u001b[43m \u001b[49m\u001b[43mnp\u001b[49m\u001b[38;5;241;43m.\u001b[39;49m\u001b[43mlogical_and\u001b[49m\u001b[43m,\u001b[49m\u001b[43m \u001b[49m\u001b[38;5;124;43m'\u001b[39;49m\u001b[38;5;124;43mall\u001b[39;49m\u001b[38;5;124;43m'\u001b[39;49m\u001b[43m,\u001b[49m\u001b[43m \u001b[49m\u001b[43maxis\u001b[49m\u001b[43m,\u001b[49m\u001b[43m \u001b[49m\u001b[38;5;28;43;01mNone\u001b[39;49;00m\u001b[43m,\u001b[49m\u001b[43m \u001b[49m\u001b[43mout\u001b[49m\u001b[43m,\u001b[49m\n\u001b[1;32m   2516\u001b[0m \u001b[43m                          \u001b[49m\u001b[43mkeepdims\u001b[49m\u001b[38;5;241;43m=\u001b[39;49m\u001b[43mkeepdims\u001b[49m\u001b[43m,\u001b[49m\u001b[43m \u001b[49m\u001b[43mwhere\u001b[49m\u001b[38;5;241;43m=\u001b[39;49m\u001b[43mwhere\u001b[49m\u001b[43m)\u001b[49m\n",
      "File \u001b[0;32m~/miniconda3/envs/ArewaDS/lib/python3.8/site-packages/numpy/core/fromnumeric.py:84\u001b[0m, in \u001b[0;36m_wrapreduction\u001b[0;34m(obj, ufunc, method, axis, dtype, out, **kwargs)\u001b[0m\n\u001b[1;32m     82\u001b[0m             \u001b[38;5;28;01mreturn\u001b[39;00m reduction(axis\u001b[38;5;241m=\u001b[39maxis, dtype\u001b[38;5;241m=\u001b[39mdtype, out\u001b[38;5;241m=\u001b[39mout, \u001b[38;5;241m*\u001b[39m\u001b[38;5;241m*\u001b[39mpasskwargs)\n\u001b[1;32m     83\u001b[0m         \u001b[38;5;28;01melse\u001b[39;00m:\n\u001b[0;32m---> 84\u001b[0m             \u001b[38;5;28;01mreturn\u001b[39;00m \u001b[43mreduction\u001b[49m\u001b[43m(\u001b[49m\u001b[43maxis\u001b[49m\u001b[38;5;241;43m=\u001b[39;49m\u001b[43maxis\u001b[49m\u001b[43m,\u001b[49m\u001b[43m \u001b[49m\u001b[43mout\u001b[49m\u001b[38;5;241;43m=\u001b[39;49m\u001b[43mout\u001b[49m\u001b[43m,\u001b[49m\u001b[43m \u001b[49m\u001b[38;5;241;43m*\u001b[39;49m\u001b[38;5;241;43m*\u001b[39;49m\u001b[43mpasskwargs\u001b[49m\u001b[43m)\u001b[49m\n\u001b[1;32m     86\u001b[0m \u001b[38;5;28;01mreturn\u001b[39;00m ufunc\u001b[38;5;241m.\u001b[39mreduce(obj, axis, dtype, out, \u001b[38;5;241m*\u001b[39m\u001b[38;5;241m*\u001b[39mpasskwargs)\n",
      "File \u001b[0;32m~/miniconda3/envs/ArewaDS/lib/python3.8/site-packages/numpy/core/_methods.py:64\u001b[0m, in \u001b[0;36m_all\u001b[0;34m(a, axis, dtype, out, keepdims, where)\u001b[0m\n\u001b[1;32m     61\u001b[0m \u001b[38;5;28;01mdef\u001b[39;00m \u001b[38;5;21m_all\u001b[39m(a, axis\u001b[38;5;241m=\u001b[39m\u001b[38;5;28;01mNone\u001b[39;00m, dtype\u001b[38;5;241m=\u001b[39m\u001b[38;5;28;01mNone\u001b[39;00m, out\u001b[38;5;241m=\u001b[39m\u001b[38;5;28;01mNone\u001b[39;00m, keepdims\u001b[38;5;241m=\u001b[39m\u001b[38;5;28;01mFalse\u001b[39;00m, \u001b[38;5;241m*\u001b[39m, where\u001b[38;5;241m=\u001b[39m\u001b[38;5;28;01mTrue\u001b[39;00m):\n\u001b[1;32m     62\u001b[0m     \u001b[38;5;66;03m# Parsing keyword arguments is currently fairly slow, so avoid it for now\u001b[39;00m\n\u001b[1;32m     63\u001b[0m     \u001b[38;5;28;01mif\u001b[39;00m where \u001b[38;5;129;01mis\u001b[39;00m \u001b[38;5;28;01mTrue\u001b[39;00m:\n\u001b[0;32m---> 64\u001b[0m         \u001b[38;5;28;01mreturn\u001b[39;00m \u001b[43mumr_all\u001b[49m\u001b[43m(\u001b[49m\u001b[43ma\u001b[49m\u001b[43m,\u001b[49m\u001b[43m \u001b[49m\u001b[43maxis\u001b[49m\u001b[43m,\u001b[49m\u001b[43m \u001b[49m\u001b[43mdtype\u001b[49m\u001b[43m,\u001b[49m\u001b[43m \u001b[49m\u001b[43mout\u001b[49m\u001b[43m,\u001b[49m\u001b[43m \u001b[49m\u001b[43mkeepdims\u001b[49m\u001b[43m)\u001b[49m\n\u001b[1;32m     65\u001b[0m     \u001b[38;5;28;01mreturn\u001b[39;00m umr_all(a, axis, dtype, out, keepdims, where\u001b[38;5;241m=\u001b[39mwhere)\n",
      "\u001b[0;31mAxisError\u001b[0m: axis 1 is out of bounds for array of dimension 0"
     ]
    }
   ],
   "source": [
    "## Task 093: Consider two arrays A and B of shape (8,3) and (2,2). How to find rows of A that contain elements of each row of B regardless of the order of the elements in B?\n",
    "A = np.array([[1, 2, 3],\n",
    "              [4, 5, 6],\n",
    "              [7, 8, 9],\n",
    "              [1, 2, 4],\n",
    "              [2, 3, 4],\n",
    "              [3, 5, 6],\n",
    "              [5, 6, 7],\n",
    "              [7, 8, 9]])\n",
    "\n",
    "B = np.array([[2, 3],\n",
    "              [7, 8]])\n",
    "\n",
    "# Reshape B to (2, 2, 1) to align with A for broadcasting\n",
    "B_reshaped = B[:, :, np.newaxis]\n",
    "\n",
    "# Check for matches between A and B using broadcasting and boolean masking\n",
    "matches = np.all(np.any(A == B_reshaped, axis=0), axis=1)\n",
    "\n",
    "# Extract rows of A that contain elements of each row of B\n",
    "result = A[matches]\n",
    "\n",
    "print(\"Array A:\")\n",
    "print(A)\n",
    "print(\"\\nArray B:\")\n",
    "print(B)\n",
    "print(\"\\nRows of A that contain elements of each row of B:\")\n",
    "print(result)"
   ]
  },
  {
   "cell_type": "code",
   "execution_count": 39,
   "metadata": {},
   "outputs": [
    {
     "name": "stdout",
     "output_type": "stream",
     "text": [
      "Original Matrix:\n",
      "[[1 2 0]\n",
      " [2 2 1]\n",
      " [1 0 1]\n",
      " [0 2 0]\n",
      " [0 2 2]\n",
      " [2 1 1]\n",
      " [2 2 0]\n",
      " [2 0 2]\n",
      " [2 1 1]\n",
      " [1 1 1]]\n",
      "\n",
      "Rows with Unequal Values:\n",
      "[[1 2 0]\n",
      " [2 2 1]\n",
      " [1 0 1]\n",
      " [0 2 0]\n",
      " [0 2 2]\n",
      " [2 1 1]\n",
      " [2 2 0]\n",
      " [2 0 2]\n",
      " [2 1 1]]\n"
     ]
    }
   ],
   "source": [
    "## Task 094: Considering a 10x3 matrix, extract rows with unequal values (e.g. [2,2,3])\n",
    "matrix = np.random.randint(0, 3, size=(10, 3))  # Example matrix with random integers from 0 to 2\n",
    "\n",
    "# Find rows with unequal values\n",
    "unequal_rows = matrix[np.apply_along_axis(lambda row: len(np.unique(row)) != 1, axis=1, arr=matrix)]\n",
    "\n",
    "print(\"Original Matrix:\")\n",
    "print(matrix)\n",
    "print(\"\\nRows with Unequal Values:\")\n",
    "print(unequal_rows)\n"
   ]
  },
  {
   "cell_type": "code",
   "execution_count": 41,
   "metadata": {},
   "outputs": [
    {
     "ename": "TypeError",
     "evalue": "Expected an input array of unsigned byte data type",
     "output_type": "error",
     "traceback": [
      "\u001b[0;31m---------------------------------------------------------------------------\u001b[0m",
      "\u001b[0;31mTypeError\u001b[0m                                 Traceback (most recent call last)",
      "Cell \u001b[0;32mIn[41], line 5\u001b[0m\n\u001b[1;32m      2\u001b[0m vector \u001b[38;5;241m=\u001b[39m np\u001b[38;5;241m.\u001b[39marray([\u001b[38;5;241m1\u001b[39m, \u001b[38;5;241m2\u001b[39m, \u001b[38;5;241m3\u001b[39m, \u001b[38;5;241m4\u001b[39m, \u001b[38;5;241m5\u001b[39m])\n\u001b[1;32m      4\u001b[0m \u001b[38;5;66;03m# Convert integers to binary representation\u001b[39;00m\n\u001b[0;32m----> 5\u001b[0m binary_matrix \u001b[38;5;241m=\u001b[39m \u001b[43mnp\u001b[49m\u001b[38;5;241;43m.\u001b[39;49m\u001b[43munpackbits\u001b[49m\u001b[43m(\u001b[49m\u001b[43mvector\u001b[49m\u001b[43m[\u001b[49m\u001b[43m:\u001b[49m\u001b[38;5;241;43m-\u001b[39;49m\u001b[38;5;241;43m1\u001b[39;49m\u001b[43m,\u001b[49m\u001b[43m \u001b[49m\u001b[43mnp\u001b[49m\u001b[38;5;241;43m.\u001b[39;49m\u001b[43mnewaxis\u001b[49m\u001b[43m]\u001b[49m\u001b[43m,\u001b[49m\u001b[43m \u001b[49m\u001b[43maxis\u001b[49m\u001b[38;5;241;43m=\u001b[39;49m\u001b[38;5;241;43m1\u001b[39;49m\u001b[43m)\u001b[49m\n\u001b[1;32m      7\u001b[0m \u001b[38;5;28mprint\u001b[39m(\u001b[38;5;124m\"\u001b[39m\u001b[38;5;124mBinary Matrix Representation:\u001b[39m\u001b[38;5;124m\"\u001b[39m)\n\u001b[1;32m      8\u001b[0m \u001b[38;5;28mprint\u001b[39m(binary_matrix)\n",
      "File \u001b[0;32m<__array_function__ internals>:200\u001b[0m, in \u001b[0;36munpackbits\u001b[0;34m(*args, **kwargs)\u001b[0m\n",
      "\u001b[0;31mTypeError\u001b[0m: Expected an input array of unsigned byte data type"
     ]
    }
   ],
   "source": [
    "## Task 095: Convert a vector of ints into a matrix binary representation\n",
    "vector = np.array([1, 2, 3, 4, 5])\n",
    "\n",
    "# Convert integers to binary representation\n",
    "binary_matrix = np.unpackbits(vector[:, np.newaxis], axis=1)\n",
    "\n",
    "print(\"Binary Matrix Representation:\")\n",
    "print(binary_matrix)\n"
   ]
  },
  {
   "cell_type": "code",
   "execution_count": 42,
   "metadata": {},
   "outputs": [
    {
     "name": "stdout",
     "output_type": "stream",
     "text": [
      "Original Array:\n",
      "[[1 2 3]\n",
      " [4 5 6]\n",
      " [1 2 3]\n",
      " [7 8 9]\n",
      " [4 5 6]]\n",
      "\n",
      "Unique Rows:\n",
      "[[1 2 3]\n",
      " [4 5 6]\n",
      " [7 8 9]]\n"
     ]
    }
   ],
   "source": [
    "## Task 096: Given a two dimensional array, how to extract unique rows?\n",
    "array_2d = np.array([[1, 2, 3],\n",
    "                     [4, 5, 6],\n",
    "                     [1, 2, 3],\n",
    "                     [7, 8, 9],\n",
    "                     [4, 5, 6]])\n",
    "\n",
    "# Extract unique rows\n",
    "unique_rows = np.unique(array_2d, axis=0)\n",
    "\n",
    "print(\"Original Array:\")\n",
    "print(array_2d)\n",
    "print(\"\\nUnique Rows:\")\n",
    "print(unique_rows)"
   ]
  },
  {
   "cell_type": "code",
   "execution_count": 43,
   "metadata": {},
   "outputs": [],
   "source": [
    "## Task 097:  Considering 2 vectors A & B, write the einsum equivalent of inner, outer, sum, and mul function \n",
    "A = np.array([1,2,3,4,5])\n",
    "B = np.array([6, 7, 8,9,10])\n",
    "\n",
    "# Einsum equivalent of inner product\n",
    "inner_product = np.einsum('i,i->', A, B)\n",
    "\n",
    "# Einsum equivalent of outer product\n",
    "outer_product = np.einsum('i,j->ij', A, B)\n",
    "\n",
    "# Einsum equivalent of outer product\n",
    "outer_product = np.einsum('i,j->ij', A, B)\n",
    "\n",
    "# Einsum equivalent of sum\n",
    "sum_result = np.einsum('i->', A)  # Sum of vector A\n",
    "\n",
    "# Einsum equivalent of element-wise multiplication\n",
    "elementwise_mul = np.einsum('i,i->i', A, B)\n"
   ]
  },
  {
   "cell_type": "code",
   "execution_count": 44,
   "metadata": {},
   "outputs": [
    {
     "ename": "IndexError",
     "evalue": "index 4 is out of bounds for axis 0 with size 4",
     "output_type": "error",
     "traceback": [
      "\u001b[0;31m---------------------------------------------------------------------------\u001b[0m",
      "\u001b[0;31mIndexError\u001b[0m                                Traceback (most recent call last)",
      "Cell \u001b[0;32mIn[44], line 40\u001b[0m\n\u001b[1;32m     37\u001b[0m Y \u001b[38;5;241m=\u001b[39m np\u001b[38;5;241m.\u001b[39marray([\u001b[38;5;241m0\u001b[39m, \u001b[38;5;241m2\u001b[39m, \u001b[38;5;241m4\u001b[39m, \u001b[38;5;241m7\u001b[39m, \u001b[38;5;241m9\u001b[39m])\n\u001b[1;32m     38\u001b[0m num_samples \u001b[38;5;241m=\u001b[39m \u001b[38;5;241m10\u001b[39m\n\u001b[0;32m---> 40\u001b[0m sampled_X, sampled_Y \u001b[38;5;241m=\u001b[39m \u001b[43mequidistant_sampling\u001b[49m\u001b[43m(\u001b[49m\u001b[43mX\u001b[49m\u001b[43m,\u001b[49m\u001b[43m \u001b[49m\u001b[43mY\u001b[49m\u001b[43m,\u001b[49m\u001b[43m \u001b[49m\u001b[43mnum_samples\u001b[49m\u001b[43m)\u001b[49m\n\u001b[1;32m     41\u001b[0m \u001b[38;5;28mprint\u001b[39m(\u001b[38;5;124m\"\u001b[39m\u001b[38;5;124mSampled X:\u001b[39m\u001b[38;5;124m\"\u001b[39m, sampled_X)\n\u001b[1;32m     42\u001b[0m \u001b[38;5;28mprint\u001b[39m(\u001b[38;5;124m\"\u001b[39m\u001b[38;5;124mSampled Y:\u001b[39m\u001b[38;5;124m\"\u001b[39m, sampled_Y)\n",
      "Cell \u001b[0;32mIn[44], line 29\u001b[0m, in \u001b[0;36mequidistant_sampling\u001b[0;34m(X, Y, num_samples)\u001b[0m\n\u001b[1;32m     26\u001b[0m     current_index \u001b[38;5;241m+\u001b[39m\u001b[38;5;241m=\u001b[39m \u001b[38;5;241m1\u001b[39m\n\u001b[1;32m     28\u001b[0m \u001b[38;5;66;03m# Interpolate the point on the segment\u001b[39;00m\n\u001b[0;32m---> 29\u001b[0m fraction \u001b[38;5;241m=\u001b[39m (target_distance \u001b[38;5;241m-\u001b[39m cumulative_distance[current_index \u001b[38;5;241m-\u001b[39m \u001b[38;5;241m1\u001b[39m]) \u001b[38;5;241m/\u001b[39m (\u001b[43mcumulative_distance\u001b[49m\u001b[43m[\u001b[49m\u001b[43mcurrent_index\u001b[49m\u001b[43m]\u001b[49m \u001b[38;5;241m-\u001b[39m cumulative_distance[current_index \u001b[38;5;241m-\u001b[39m \u001b[38;5;241m1\u001b[39m])\n\u001b[1;32m     30\u001b[0m sampled_X\u001b[38;5;241m.\u001b[39mappend(X[current_index \u001b[38;5;241m-\u001b[39m \u001b[38;5;241m1\u001b[39m] \u001b[38;5;241m+\u001b[39m fraction \u001b[38;5;241m*\u001b[39m (X[current_index] \u001b[38;5;241m-\u001b[39m X[current_index \u001b[38;5;241m-\u001b[39m \u001b[38;5;241m1\u001b[39m]))\n\u001b[1;32m     31\u001b[0m sampled_Y\u001b[38;5;241m.\u001b[39mappend(Y[current_index \u001b[38;5;241m-\u001b[39m \u001b[38;5;241m1\u001b[39m] \u001b[38;5;241m+\u001b[39m fraction \u001b[38;5;241m*\u001b[39m (Y[current_index] \u001b[38;5;241m-\u001b[39m Y[current_index \u001b[38;5;241m-\u001b[39m \u001b[38;5;241m1\u001b[39m]))\n",
      "\u001b[0;31mIndexError\u001b[0m: index 4 is out of bounds for axis 0 with size 4"
     ]
    }
   ],
   "source": [
    "## Task 098:Considering a path described by two vectors (X,Y), how to sample it using equidistant samples \n",
    "def equidistant_sampling(X, Y, num_samples):\n",
    "    # Calculate the total distance along the path\n",
    "    distances = np.sqrt(np.diff(X)**2 + np.diff(Y)**2)\n",
    "    total_distance = np.sum(distances)\n",
    "\n",
    "    # Calculate the cumulative distance\n",
    "    cumulative_distance = np.cumsum(distances)\n",
    "\n",
    "    # Calculate the step size for equidistant sampling\n",
    "    step = total_distance / (num_samples - 1)\n",
    "\n",
    "    # Initialize sampled points\n",
    "    sampled_X = [X[0]]\n",
    "    sampled_Y = [Y[0]]\n",
    "\n",
    "    # Interpolate equidistant points along the path\n",
    "    current_distance = 0\n",
    "    current_index = 0\n",
    "    for i in range(1, num_samples):\n",
    "        target_distance = i * step\n",
    "\n",
    "        # Find the segment containing the target distance\n",
    "        while current_distance < target_distance:\n",
    "            current_distance = cumulative_distance[current_index]\n",
    "            current_index += 1\n",
    "\n",
    "        # Interpolate the point on the segment\n",
    "        fraction = (target_distance - cumulative_distance[current_index - 1]) / (cumulative_distance[current_index] - cumulative_distance[current_index - 1])\n",
    "        sampled_X.append(X[current_index - 1] + fraction * (X[current_index] - X[current_index - 1]))\n",
    "        sampled_Y.append(Y[current_index - 1] + fraction * (Y[current_index] - Y[current_index - 1]))\n",
    "\n",
    "    return np.array(sampled_X), np.array(sampled_Y)\n",
    "\n",
    "X = np.array([0, 1, 3, 6, 10])\n",
    "Y = np.array([0, 2, 4, 7, 9])\n",
    "num_samples = 10\n",
    "\n",
    "sampled_X, sampled_Y = equidistant_sampling(X, Y, num_samples)\n",
    "print(\"Sampled X:\", sampled_X)\n",
    "print(\"Sampled Y:\", sampled_Y)\n",
    "\n"
   ]
  },
  {
   "cell_type": "code",
   "execution_count": 45,
   "metadata": {},
   "outputs": [
    {
     "name": "stdout",
     "output_type": "stream",
     "text": [
      "Selected Rows:\n",
      "[[ 1  2  3  4]\n",
      " [ 3  1  5  1]\n",
      " [ 2  3  2  3]\n",
      " [ 0 10  0  0]]\n"
     ]
    }
   ],
   "source": [
    "## Task 099:  Given an integer n and a 2D array X, select from X the rows which can be interpreted as draws from a multinomial distribution with n degrees, i.e., the rows which only contain integers and which sum to n. \n",
    "def select_multinomial_rows(X, n):\n",
    "    # Check if rows contain only integers and sum to n\n",
    "    valid_rows_mask = np.all(X.astype(int) == X, axis=1) & (np.sum(X, axis=1) == n)\n",
    "    \n",
    "    # Select valid rows\n",
    "    valid_rows = X[valid_rows_mask]\n",
    "    \n",
    "    return valid_rows\n",
    "\n",
    "# Example usage\n",
    "n = 10\n",
    "X = np.array([[1, 2, 3, 4],\n",
    "              [3, 1, 5, 1],\n",
    "              [2, 3, 2, 3],\n",
    "              [0, 10, 0, 0]])\n",
    "\n",
    "selected_rows = select_multinomial_rows(X, n)\n",
    "print(\"Selected Rows:\")\n",
    "print(selected_rows)\n"
   ]
  },
  {
   "cell_type": "code",
   "execution_count": 46,
   "metadata": {},
   "outputs": [
    {
     "name": "stdout",
     "output_type": "stream",
     "text": [
      "Bootstrapped 95% Confidence Intervals for the Mean:\n",
      "Lower Bound: 3.6\n",
      "Upper Bound: 7.2\n"
     ]
    }
   ],
   "source": [
    "## Task 100: Compute bootstrapped 95% confidence intervals for the mean of a 1D array X (i.e., resample the elements of an array with replacement N times, compute the mean of each sample, and then compute percentiles over the means).\n",
    "def bootstrap_confidence_intervals(X, num_samples=1000, confidence_level=95):\n",
    "    # Resample with replacement\n",
    "    resampled_means = [np.mean(np.random.choice(X, size=len(X), replace=True)) for _ in range(num_samples)]\n",
    "\n",
    "    # Compute percentiles\n",
    "    lower_percentile = (100 - confidence_level) / 2\n",
    "    upper_percentile = 100 - lower_percentile\n",
    "    lower_bound = np.percentile(resampled_means, lower_percentile)\n",
    "    upper_bound = np.percentile(resampled_means, upper_percentile)\n",
    "\n",
    "    return lower_bound, upper_bound\n",
    "\n",
    "# Example usage\n",
    "X = np.array([1, 2, 3, 4, 5, 6, 7, 8, 9, 10])\n",
    "lower_bound, upper_bound = bootstrap_confidence_intervals(X)\n",
    "\n",
    "print(\"Bootstrapped 95% Confidence Intervals for the Mean:\")\n",
    "print(\"Lower Bound:\", lower_bound)\n",
    "print(\"Upper Bound:\", upper_bound)"
   ]
  }
 ],
 "metadata": {
  "kernelspec": {
   "display_name": "ArewaDS",
   "language": "python",
   "name": "python3"
  },
  "language_info": {
   "codemirror_mode": {
    "name": "ipython",
    "version": 3
   },
   "file_extension": ".py",
   "mimetype": "text/x-python",
   "name": "python",
   "nbconvert_exporter": "python",
   "pygments_lexer": "ipython3",
   "version": "3.8.18"
  }
 },
 "nbformat": 4,
 "nbformat_minor": 2
}
